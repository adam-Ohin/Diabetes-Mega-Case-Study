{
 "cells": [
  {
   "cell_type": "markdown",
   "id": "c7c37d13",
   "metadata": {},
   "source": [
    "# Import the necessary libraries"
   ]
  },
  {
   "cell_type": "code",
   "execution_count": 179,
   "id": "fb4605ea",
   "metadata": {},
   "outputs": [],
   "source": [
    "import pandas as pd\n",
    "import numpy as np\n",
    "import seaborn as sns\n",
    "import matplotlib.pyplot as plt\n",
    "import shap\n",
    "%matplotlib inline"
   ]
  },
  {
   "cell_type": "markdown",
   "id": "15195355",
   "metadata": {},
   "source": [
    "# Load the dataset"
   ]
  },
  {
   "cell_type": "code",
   "execution_count": 180,
   "id": "c337bbaf",
   "metadata": {},
   "outputs": [],
   "source": [
    "# using pandas to read the csv file\n",
    "df = pd.read_csv('diabetes-2.csv')"
   ]
  },
  {
   "cell_type": "code",
   "execution_count": 181,
   "id": "96292f53",
   "metadata": {},
   "outputs": [
    {
     "data": {
      "text/html": [
       "<div>\n",
       "<style scoped>\n",
       "    .dataframe tbody tr th:only-of-type {\n",
       "        vertical-align: middle;\n",
       "    }\n",
       "\n",
       "    .dataframe tbody tr th {\n",
       "        vertical-align: top;\n",
       "    }\n",
       "\n",
       "    .dataframe thead th {\n",
       "        text-align: right;\n",
       "    }\n",
       "</style>\n",
       "<table border=\"1\" class=\"dataframe\">\n",
       "  <thead>\n",
       "    <tr style=\"text-align: right;\">\n",
       "      <th></th>\n",
       "      <th>Pregnancies</th>\n",
       "      <th>Glucose</th>\n",
       "      <th>BloodPressure</th>\n",
       "      <th>SkinThickness</th>\n",
       "      <th>Insulin</th>\n",
       "      <th>BMI</th>\n",
       "      <th>DiabetesPedigreeFunction</th>\n",
       "      <th>Age</th>\n",
       "      <th>Outcome</th>\n",
       "    </tr>\n",
       "  </thead>\n",
       "  <tbody>\n",
       "    <tr>\n",
       "      <th>0</th>\n",
       "      <td>6</td>\n",
       "      <td>148</td>\n",
       "      <td>72</td>\n",
       "      <td>35</td>\n",
       "      <td>0</td>\n",
       "      <td>33.6</td>\n",
       "      <td>0.627</td>\n",
       "      <td>50</td>\n",
       "      <td>1</td>\n",
       "    </tr>\n",
       "    <tr>\n",
       "      <th>1</th>\n",
       "      <td>1</td>\n",
       "      <td>85</td>\n",
       "      <td>66</td>\n",
       "      <td>29</td>\n",
       "      <td>0</td>\n",
       "      <td>26.6</td>\n",
       "      <td>0.351</td>\n",
       "      <td>31</td>\n",
       "      <td>0</td>\n",
       "    </tr>\n",
       "    <tr>\n",
       "      <th>2</th>\n",
       "      <td>8</td>\n",
       "      <td>183</td>\n",
       "      <td>64</td>\n",
       "      <td>0</td>\n",
       "      <td>0</td>\n",
       "      <td>23.3</td>\n",
       "      <td>0.672</td>\n",
       "      <td>32</td>\n",
       "      <td>1</td>\n",
       "    </tr>\n",
       "    <tr>\n",
       "      <th>3</th>\n",
       "      <td>1</td>\n",
       "      <td>89</td>\n",
       "      <td>66</td>\n",
       "      <td>23</td>\n",
       "      <td>94</td>\n",
       "      <td>28.1</td>\n",
       "      <td>0.167</td>\n",
       "      <td>21</td>\n",
       "      <td>0</td>\n",
       "    </tr>\n",
       "    <tr>\n",
       "      <th>4</th>\n",
       "      <td>0</td>\n",
       "      <td>137</td>\n",
       "      <td>40</td>\n",
       "      <td>35</td>\n",
       "      <td>168</td>\n",
       "      <td>43.1</td>\n",
       "      <td>2.288</td>\n",
       "      <td>33</td>\n",
       "      <td>1</td>\n",
       "    </tr>\n",
       "    <tr>\n",
       "      <th>5</th>\n",
       "      <td>5</td>\n",
       "      <td>116</td>\n",
       "      <td>74</td>\n",
       "      <td>0</td>\n",
       "      <td>0</td>\n",
       "      <td>25.6</td>\n",
       "      <td>0.201</td>\n",
       "      <td>30</td>\n",
       "      <td>0</td>\n",
       "    </tr>\n",
       "    <tr>\n",
       "      <th>6</th>\n",
       "      <td>3</td>\n",
       "      <td>78</td>\n",
       "      <td>50</td>\n",
       "      <td>32</td>\n",
       "      <td>88</td>\n",
       "      <td>31.0</td>\n",
       "      <td>0.248</td>\n",
       "      <td>26</td>\n",
       "      <td>1</td>\n",
       "    </tr>\n",
       "    <tr>\n",
       "      <th>7</th>\n",
       "      <td>10</td>\n",
       "      <td>115</td>\n",
       "      <td>0</td>\n",
       "      <td>0</td>\n",
       "      <td>0</td>\n",
       "      <td>35.3</td>\n",
       "      <td>0.134</td>\n",
       "      <td>29</td>\n",
       "      <td>0</td>\n",
       "    </tr>\n",
       "    <tr>\n",
       "      <th>8</th>\n",
       "      <td>2</td>\n",
       "      <td>197</td>\n",
       "      <td>70</td>\n",
       "      <td>45</td>\n",
       "      <td>543</td>\n",
       "      <td>30.5</td>\n",
       "      <td>0.158</td>\n",
       "      <td>53</td>\n",
       "      <td>1</td>\n",
       "    </tr>\n",
       "    <tr>\n",
       "      <th>9</th>\n",
       "      <td>8</td>\n",
       "      <td>125</td>\n",
       "      <td>96</td>\n",
       "      <td>0</td>\n",
       "      <td>0</td>\n",
       "      <td>0.0</td>\n",
       "      <td>0.232</td>\n",
       "      <td>54</td>\n",
       "      <td>1</td>\n",
       "    </tr>\n",
       "    <tr>\n",
       "      <th>10</th>\n",
       "      <td>4</td>\n",
       "      <td>110</td>\n",
       "      <td>92</td>\n",
       "      <td>0</td>\n",
       "      <td>0</td>\n",
       "      <td>37.6</td>\n",
       "      <td>0.191</td>\n",
       "      <td>30</td>\n",
       "      <td>0</td>\n",
       "    </tr>\n",
       "    <tr>\n",
       "      <th>11</th>\n",
       "      <td>10</td>\n",
       "      <td>168</td>\n",
       "      <td>74</td>\n",
       "      <td>0</td>\n",
       "      <td>0</td>\n",
       "      <td>38.0</td>\n",
       "      <td>0.537</td>\n",
       "      <td>34</td>\n",
       "      <td>1</td>\n",
       "    </tr>\n",
       "    <tr>\n",
       "      <th>12</th>\n",
       "      <td>10</td>\n",
       "      <td>139</td>\n",
       "      <td>80</td>\n",
       "      <td>0</td>\n",
       "      <td>0</td>\n",
       "      <td>27.1</td>\n",
       "      <td>1.441</td>\n",
       "      <td>57</td>\n",
       "      <td>0</td>\n",
       "    </tr>\n",
       "    <tr>\n",
       "      <th>13</th>\n",
       "      <td>1</td>\n",
       "      <td>189</td>\n",
       "      <td>60</td>\n",
       "      <td>23</td>\n",
       "      <td>846</td>\n",
       "      <td>30.1</td>\n",
       "      <td>0.398</td>\n",
       "      <td>59</td>\n",
       "      <td>1</td>\n",
       "    </tr>\n",
       "    <tr>\n",
       "      <th>14</th>\n",
       "      <td>5</td>\n",
       "      <td>166</td>\n",
       "      <td>72</td>\n",
       "      <td>19</td>\n",
       "      <td>175</td>\n",
       "      <td>25.8</td>\n",
       "      <td>0.587</td>\n",
       "      <td>51</td>\n",
       "      <td>1</td>\n",
       "    </tr>\n",
       "    <tr>\n",
       "      <th>15</th>\n",
       "      <td>7</td>\n",
       "      <td>100</td>\n",
       "      <td>0</td>\n",
       "      <td>0</td>\n",
       "      <td>0</td>\n",
       "      <td>30.0</td>\n",
       "      <td>0.484</td>\n",
       "      <td>32</td>\n",
       "      <td>1</td>\n",
       "    </tr>\n",
       "    <tr>\n",
       "      <th>16</th>\n",
       "      <td>0</td>\n",
       "      <td>118</td>\n",
       "      <td>84</td>\n",
       "      <td>47</td>\n",
       "      <td>230</td>\n",
       "      <td>45.8</td>\n",
       "      <td>0.551</td>\n",
       "      <td>31</td>\n",
       "      <td>1</td>\n",
       "    </tr>\n",
       "    <tr>\n",
       "      <th>17</th>\n",
       "      <td>7</td>\n",
       "      <td>107</td>\n",
       "      <td>74</td>\n",
       "      <td>0</td>\n",
       "      <td>0</td>\n",
       "      <td>29.6</td>\n",
       "      <td>0.254</td>\n",
       "      <td>31</td>\n",
       "      <td>1</td>\n",
       "    </tr>\n",
       "    <tr>\n",
       "      <th>18</th>\n",
       "      <td>1</td>\n",
       "      <td>103</td>\n",
       "      <td>30</td>\n",
       "      <td>38</td>\n",
       "      <td>83</td>\n",
       "      <td>43.3</td>\n",
       "      <td>0.183</td>\n",
       "      <td>33</td>\n",
       "      <td>0</td>\n",
       "    </tr>\n",
       "    <tr>\n",
       "      <th>19</th>\n",
       "      <td>1</td>\n",
       "      <td>115</td>\n",
       "      <td>70</td>\n",
       "      <td>30</td>\n",
       "      <td>96</td>\n",
       "      <td>34.6</td>\n",
       "      <td>0.529</td>\n",
       "      <td>32</td>\n",
       "      <td>1</td>\n",
       "    </tr>\n",
       "  </tbody>\n",
       "</table>\n",
       "</div>"
      ],
      "text/plain": [
       "    Pregnancies  Glucose  BloodPressure  SkinThickness  Insulin   BMI  \\\n",
       "0             6      148             72             35        0  33.6   \n",
       "1             1       85             66             29        0  26.6   \n",
       "2             8      183             64              0        0  23.3   \n",
       "3             1       89             66             23       94  28.1   \n",
       "4             0      137             40             35      168  43.1   \n",
       "5             5      116             74              0        0  25.6   \n",
       "6             3       78             50             32       88  31.0   \n",
       "7            10      115              0              0        0  35.3   \n",
       "8             2      197             70             45      543  30.5   \n",
       "9             8      125             96              0        0   0.0   \n",
       "10            4      110             92              0        0  37.6   \n",
       "11           10      168             74              0        0  38.0   \n",
       "12           10      139             80              0        0  27.1   \n",
       "13            1      189             60             23      846  30.1   \n",
       "14            5      166             72             19      175  25.8   \n",
       "15            7      100              0              0        0  30.0   \n",
       "16            0      118             84             47      230  45.8   \n",
       "17            7      107             74              0        0  29.6   \n",
       "18            1      103             30             38       83  43.3   \n",
       "19            1      115             70             30       96  34.6   \n",
       "\n",
       "    DiabetesPedigreeFunction  Age  Outcome  \n",
       "0                      0.627   50        1  \n",
       "1                      0.351   31        0  \n",
       "2                      0.672   32        1  \n",
       "3                      0.167   21        0  \n",
       "4                      2.288   33        1  \n",
       "5                      0.201   30        0  \n",
       "6                      0.248   26        1  \n",
       "7                      0.134   29        0  \n",
       "8                      0.158   53        1  \n",
       "9                      0.232   54        1  \n",
       "10                     0.191   30        0  \n",
       "11                     0.537   34        1  \n",
       "12                     1.441   57        0  \n",
       "13                     0.398   59        1  \n",
       "14                     0.587   51        1  \n",
       "15                     0.484   32        1  \n",
       "16                     0.551   31        1  \n",
       "17                     0.254   31        1  \n",
       "18                     0.183   33        0  \n",
       "19                     0.529   32        1  "
      ]
     },
     "execution_count": 181,
     "metadata": {},
     "output_type": "execute_result"
    }
   ],
   "source": [
    "# view the first 20 rows of the dataset\n",
    "df.head(20)"
   ]
  },
  {
   "cell_type": "code",
   "execution_count": 182,
   "id": "d115b645",
   "metadata": {},
   "outputs": [
    {
     "name": "stdout",
     "output_type": "stream",
     "text": [
      "<class 'pandas.core.frame.DataFrame'>\n",
      "RangeIndex: 768 entries, 0 to 767\n",
      "Data columns (total 9 columns):\n",
      " #   Column                    Non-Null Count  Dtype  \n",
      "---  ------                    --------------  -----  \n",
      " 0   Pregnancies               768 non-null    int64  \n",
      " 1   Glucose                   768 non-null    int64  \n",
      " 2   BloodPressure             768 non-null    int64  \n",
      " 3   SkinThickness             768 non-null    int64  \n",
      " 4   Insulin                   768 non-null    int64  \n",
      " 5   BMI                       768 non-null    float64\n",
      " 6   DiabetesPedigreeFunction  768 non-null    float64\n",
      " 7   Age                       768 non-null    int64  \n",
      " 8   Outcome                   768 non-null    int64  \n",
      "dtypes: float64(2), int64(7)\n",
      "memory usage: 54.1 KB\n"
     ]
    }
   ],
   "source": [
    "#view the general information of the dataset using the function\n",
    "df.info()"
   ]
  },
  {
   "cell_type": "code",
   "execution_count": 183,
   "id": "2914b197",
   "metadata": {
    "scrolled": false
   },
   "outputs": [
    {
     "data": {
      "text/plain": [
       "Pregnancies                 0\n",
       "Glucose                     0\n",
       "BloodPressure               0\n",
       "SkinThickness               0\n",
       "Insulin                     0\n",
       "BMI                         0\n",
       "DiabetesPedigreeFunction    0\n",
       "Age                         0\n",
       "Outcome                     0\n",
       "dtype: int64"
      ]
     },
     "execution_count": 183,
     "metadata": {},
     "output_type": "execute_result"
    }
   ],
   "source": [
    "# Check for missing values\n",
    "df.isnull().sum()"
   ]
  },
  {
   "cell_type": "code",
   "execution_count": 184,
   "id": "fb2d1e21",
   "metadata": {},
   "outputs": [
    {
     "data": {
      "text/plain": [
       "Pregnancies                 111\n",
       "Glucose                       5\n",
       "BloodPressure                35\n",
       "SkinThickness               227\n",
       "Insulin                     374\n",
       "BMI                          11\n",
       "DiabetesPedigreeFunction      0\n",
       "Age                           0\n",
       "Outcome                     500\n",
       "dtype: int64"
      ]
     },
     "execution_count": 184,
     "metadata": {},
     "output_type": "execute_result"
    }
   ],
   "source": [
    "# check for zeros in the dataset, even though it is not a NAN\n",
    "(df==0).sum()"
   ]
  },
  {
   "cell_type": "code",
   "execution_count": 185,
   "id": "8a15fdf2",
   "metadata": {},
   "outputs": [],
   "source": [
    "# replace zeros with NaN\n",
    "df['Glucose'].replace(0,np.nan, inplace=True)\n",
    "df['BloodPressure'].replace(0,np.nan, inplace=True)\n",
    "df['SkinThickness'].replace(0,np.nan, inplace=True)\n",
    "df['Insulin'].replace(0,np.nan, inplace=True)\n",
    "df['BMI'].replace(0,np.nan, inplace=True)\n",
    "df['DiabetesPedigreeFunction'].replace(0,np.nan, inplace=True)\n",
    "df['Age'].replace(0,np.nan, inplace=True)"
   ]
  },
  {
   "cell_type": "code",
   "execution_count": 186,
   "id": "af04838d",
   "metadata": {},
   "outputs": [
    {
     "data": {
      "text/html": [
       "<div>\n",
       "<style scoped>\n",
       "    .dataframe tbody tr th:only-of-type {\n",
       "        vertical-align: middle;\n",
       "    }\n",
       "\n",
       "    .dataframe tbody tr th {\n",
       "        vertical-align: top;\n",
       "    }\n",
       "\n",
       "    .dataframe thead th {\n",
       "        text-align: right;\n",
       "    }\n",
       "</style>\n",
       "<table border=\"1\" class=\"dataframe\">\n",
       "  <thead>\n",
       "    <tr style=\"text-align: right;\">\n",
       "      <th></th>\n",
       "      <th>Pregnancies</th>\n",
       "      <th>Glucose</th>\n",
       "      <th>BloodPressure</th>\n",
       "      <th>SkinThickness</th>\n",
       "      <th>Insulin</th>\n",
       "      <th>BMI</th>\n",
       "      <th>DiabetesPedigreeFunction</th>\n",
       "      <th>Age</th>\n",
       "      <th>Outcome</th>\n",
       "    </tr>\n",
       "  </thead>\n",
       "  <tbody>\n",
       "    <tr>\n",
       "      <th>0</th>\n",
       "      <td>6</td>\n",
       "      <td>148.0</td>\n",
       "      <td>72.0</td>\n",
       "      <td>35.0</td>\n",
       "      <td>NaN</td>\n",
       "      <td>33.6</td>\n",
       "      <td>0.627</td>\n",
       "      <td>50</td>\n",
       "      <td>1</td>\n",
       "    </tr>\n",
       "    <tr>\n",
       "      <th>1</th>\n",
       "      <td>1</td>\n",
       "      <td>85.0</td>\n",
       "      <td>66.0</td>\n",
       "      <td>29.0</td>\n",
       "      <td>NaN</td>\n",
       "      <td>26.6</td>\n",
       "      <td>0.351</td>\n",
       "      <td>31</td>\n",
       "      <td>0</td>\n",
       "    </tr>\n",
       "    <tr>\n",
       "      <th>2</th>\n",
       "      <td>8</td>\n",
       "      <td>183.0</td>\n",
       "      <td>64.0</td>\n",
       "      <td>NaN</td>\n",
       "      <td>NaN</td>\n",
       "      <td>23.3</td>\n",
       "      <td>0.672</td>\n",
       "      <td>32</td>\n",
       "      <td>1</td>\n",
       "    </tr>\n",
       "    <tr>\n",
       "      <th>3</th>\n",
       "      <td>1</td>\n",
       "      <td>89.0</td>\n",
       "      <td>66.0</td>\n",
       "      <td>23.0</td>\n",
       "      <td>94.0</td>\n",
       "      <td>28.1</td>\n",
       "      <td>0.167</td>\n",
       "      <td>21</td>\n",
       "      <td>0</td>\n",
       "    </tr>\n",
       "    <tr>\n",
       "      <th>4</th>\n",
       "      <td>0</td>\n",
       "      <td>137.0</td>\n",
       "      <td>40.0</td>\n",
       "      <td>35.0</td>\n",
       "      <td>168.0</td>\n",
       "      <td>43.1</td>\n",
       "      <td>2.288</td>\n",
       "      <td>33</td>\n",
       "      <td>1</td>\n",
       "    </tr>\n",
       "    <tr>\n",
       "      <th>5</th>\n",
       "      <td>5</td>\n",
       "      <td>116.0</td>\n",
       "      <td>74.0</td>\n",
       "      <td>NaN</td>\n",
       "      <td>NaN</td>\n",
       "      <td>25.6</td>\n",
       "      <td>0.201</td>\n",
       "      <td>30</td>\n",
       "      <td>0</td>\n",
       "    </tr>\n",
       "    <tr>\n",
       "      <th>6</th>\n",
       "      <td>3</td>\n",
       "      <td>78.0</td>\n",
       "      <td>50.0</td>\n",
       "      <td>32.0</td>\n",
       "      <td>88.0</td>\n",
       "      <td>31.0</td>\n",
       "      <td>0.248</td>\n",
       "      <td>26</td>\n",
       "      <td>1</td>\n",
       "    </tr>\n",
       "    <tr>\n",
       "      <th>7</th>\n",
       "      <td>10</td>\n",
       "      <td>115.0</td>\n",
       "      <td>NaN</td>\n",
       "      <td>NaN</td>\n",
       "      <td>NaN</td>\n",
       "      <td>35.3</td>\n",
       "      <td>0.134</td>\n",
       "      <td>29</td>\n",
       "      <td>0</td>\n",
       "    </tr>\n",
       "    <tr>\n",
       "      <th>8</th>\n",
       "      <td>2</td>\n",
       "      <td>197.0</td>\n",
       "      <td>70.0</td>\n",
       "      <td>45.0</td>\n",
       "      <td>543.0</td>\n",
       "      <td>30.5</td>\n",
       "      <td>0.158</td>\n",
       "      <td>53</td>\n",
       "      <td>1</td>\n",
       "    </tr>\n",
       "    <tr>\n",
       "      <th>9</th>\n",
       "      <td>8</td>\n",
       "      <td>125.0</td>\n",
       "      <td>96.0</td>\n",
       "      <td>NaN</td>\n",
       "      <td>NaN</td>\n",
       "      <td>NaN</td>\n",
       "      <td>0.232</td>\n",
       "      <td>54</td>\n",
       "      <td>1</td>\n",
       "    </tr>\n",
       "    <tr>\n",
       "      <th>10</th>\n",
       "      <td>4</td>\n",
       "      <td>110.0</td>\n",
       "      <td>92.0</td>\n",
       "      <td>NaN</td>\n",
       "      <td>NaN</td>\n",
       "      <td>37.6</td>\n",
       "      <td>0.191</td>\n",
       "      <td>30</td>\n",
       "      <td>0</td>\n",
       "    </tr>\n",
       "    <tr>\n",
       "      <th>11</th>\n",
       "      <td>10</td>\n",
       "      <td>168.0</td>\n",
       "      <td>74.0</td>\n",
       "      <td>NaN</td>\n",
       "      <td>NaN</td>\n",
       "      <td>38.0</td>\n",
       "      <td>0.537</td>\n",
       "      <td>34</td>\n",
       "      <td>1</td>\n",
       "    </tr>\n",
       "    <tr>\n",
       "      <th>12</th>\n",
       "      <td>10</td>\n",
       "      <td>139.0</td>\n",
       "      <td>80.0</td>\n",
       "      <td>NaN</td>\n",
       "      <td>NaN</td>\n",
       "      <td>27.1</td>\n",
       "      <td>1.441</td>\n",
       "      <td>57</td>\n",
       "      <td>0</td>\n",
       "    </tr>\n",
       "    <tr>\n",
       "      <th>13</th>\n",
       "      <td>1</td>\n",
       "      <td>189.0</td>\n",
       "      <td>60.0</td>\n",
       "      <td>23.0</td>\n",
       "      <td>846.0</td>\n",
       "      <td>30.1</td>\n",
       "      <td>0.398</td>\n",
       "      <td>59</td>\n",
       "      <td>1</td>\n",
       "    </tr>\n",
       "    <tr>\n",
       "      <th>14</th>\n",
       "      <td>5</td>\n",
       "      <td>166.0</td>\n",
       "      <td>72.0</td>\n",
       "      <td>19.0</td>\n",
       "      <td>175.0</td>\n",
       "      <td>25.8</td>\n",
       "      <td>0.587</td>\n",
       "      <td>51</td>\n",
       "      <td>1</td>\n",
       "    </tr>\n",
       "    <tr>\n",
       "      <th>15</th>\n",
       "      <td>7</td>\n",
       "      <td>100.0</td>\n",
       "      <td>NaN</td>\n",
       "      <td>NaN</td>\n",
       "      <td>NaN</td>\n",
       "      <td>30.0</td>\n",
       "      <td>0.484</td>\n",
       "      <td>32</td>\n",
       "      <td>1</td>\n",
       "    </tr>\n",
       "    <tr>\n",
       "      <th>16</th>\n",
       "      <td>0</td>\n",
       "      <td>118.0</td>\n",
       "      <td>84.0</td>\n",
       "      <td>47.0</td>\n",
       "      <td>230.0</td>\n",
       "      <td>45.8</td>\n",
       "      <td>0.551</td>\n",
       "      <td>31</td>\n",
       "      <td>1</td>\n",
       "    </tr>\n",
       "    <tr>\n",
       "      <th>17</th>\n",
       "      <td>7</td>\n",
       "      <td>107.0</td>\n",
       "      <td>74.0</td>\n",
       "      <td>NaN</td>\n",
       "      <td>NaN</td>\n",
       "      <td>29.6</td>\n",
       "      <td>0.254</td>\n",
       "      <td>31</td>\n",
       "      <td>1</td>\n",
       "    </tr>\n",
       "    <tr>\n",
       "      <th>18</th>\n",
       "      <td>1</td>\n",
       "      <td>103.0</td>\n",
       "      <td>30.0</td>\n",
       "      <td>38.0</td>\n",
       "      <td>83.0</td>\n",
       "      <td>43.3</td>\n",
       "      <td>0.183</td>\n",
       "      <td>33</td>\n",
       "      <td>0</td>\n",
       "    </tr>\n",
       "    <tr>\n",
       "      <th>19</th>\n",
       "      <td>1</td>\n",
       "      <td>115.0</td>\n",
       "      <td>70.0</td>\n",
       "      <td>30.0</td>\n",
       "      <td>96.0</td>\n",
       "      <td>34.6</td>\n",
       "      <td>0.529</td>\n",
       "      <td>32</td>\n",
       "      <td>1</td>\n",
       "    </tr>\n",
       "  </tbody>\n",
       "</table>\n",
       "</div>"
      ],
      "text/plain": [
       "    Pregnancies  Glucose  BloodPressure  SkinThickness  Insulin   BMI  \\\n",
       "0             6    148.0           72.0           35.0      NaN  33.6   \n",
       "1             1     85.0           66.0           29.0      NaN  26.6   \n",
       "2             8    183.0           64.0            NaN      NaN  23.3   \n",
       "3             1     89.0           66.0           23.0     94.0  28.1   \n",
       "4             0    137.0           40.0           35.0    168.0  43.1   \n",
       "5             5    116.0           74.0            NaN      NaN  25.6   \n",
       "6             3     78.0           50.0           32.0     88.0  31.0   \n",
       "7            10    115.0            NaN            NaN      NaN  35.3   \n",
       "8             2    197.0           70.0           45.0    543.0  30.5   \n",
       "9             8    125.0           96.0            NaN      NaN   NaN   \n",
       "10            4    110.0           92.0            NaN      NaN  37.6   \n",
       "11           10    168.0           74.0            NaN      NaN  38.0   \n",
       "12           10    139.0           80.0            NaN      NaN  27.1   \n",
       "13            1    189.0           60.0           23.0    846.0  30.1   \n",
       "14            5    166.0           72.0           19.0    175.0  25.8   \n",
       "15            7    100.0            NaN            NaN      NaN  30.0   \n",
       "16            0    118.0           84.0           47.0    230.0  45.8   \n",
       "17            7    107.0           74.0            NaN      NaN  29.6   \n",
       "18            1    103.0           30.0           38.0     83.0  43.3   \n",
       "19            1    115.0           70.0           30.0     96.0  34.6   \n",
       "\n",
       "    DiabetesPedigreeFunction  Age  Outcome  \n",
       "0                      0.627   50        1  \n",
       "1                      0.351   31        0  \n",
       "2                      0.672   32        1  \n",
       "3                      0.167   21        0  \n",
       "4                      2.288   33        1  \n",
       "5                      0.201   30        0  \n",
       "6                      0.248   26        1  \n",
       "7                      0.134   29        0  \n",
       "8                      0.158   53        1  \n",
       "9                      0.232   54        1  \n",
       "10                     0.191   30        0  \n",
       "11                     0.537   34        1  \n",
       "12                     1.441   57        0  \n",
       "13                     0.398   59        1  \n",
       "14                     0.587   51        1  \n",
       "15                     0.484   32        1  \n",
       "16                     0.551   31        1  \n",
       "17                     0.254   31        1  \n",
       "18                     0.183   33        0  \n",
       "19                     0.529   32        1  "
      ]
     },
     "execution_count": 186,
     "metadata": {},
     "output_type": "execute_result"
    }
   ],
   "source": [
    "# view the first twenty rows to see the NAN\n",
    "df.head(20)"
   ]
  },
  {
   "cell_type": "code",
   "execution_count": 187,
   "id": "29de9a2e",
   "metadata": {},
   "outputs": [
    {
     "data": {
      "text/plain": [
       "Pregnancies                   0\n",
       "Glucose                       5\n",
       "BloodPressure                35\n",
       "SkinThickness               227\n",
       "Insulin                     374\n",
       "BMI                          11\n",
       "DiabetesPedigreeFunction      0\n",
       "Age                           0\n",
       "Outcome                       0\n",
       "dtype: int64"
      ]
     },
     "execution_count": 187,
     "metadata": {},
     "output_type": "execute_result"
    }
   ],
   "source": [
    "#Recheck for missing values\n",
    "df.isnull().sum()"
   ]
  },
  {
   "cell_type": "code",
   "execution_count": 188,
   "id": "0f7278fb",
   "metadata": {},
   "outputs": [],
   "source": [
    "# Create a new column for the next five years of age\n",
    "df['Age_for_the_nextFiveYears'] = df['Age'] + 5"
   ]
  },
  {
   "cell_type": "code",
   "execution_count": 189,
   "id": "4bb99603",
   "metadata": {},
   "outputs": [
    {
     "data": {
      "text/html": [
       "<div>\n",
       "<style scoped>\n",
       "    .dataframe tbody tr th:only-of-type {\n",
       "        vertical-align: middle;\n",
       "    }\n",
       "\n",
       "    .dataframe tbody tr th {\n",
       "        vertical-align: top;\n",
       "    }\n",
       "\n",
       "    .dataframe thead th {\n",
       "        text-align: right;\n",
       "    }\n",
       "</style>\n",
       "<table border=\"1\" class=\"dataframe\">\n",
       "  <thead>\n",
       "    <tr style=\"text-align: right;\">\n",
       "      <th></th>\n",
       "      <th>Pregnancies</th>\n",
       "      <th>Glucose</th>\n",
       "      <th>BloodPressure</th>\n",
       "      <th>SkinThickness</th>\n",
       "      <th>Insulin</th>\n",
       "      <th>BMI</th>\n",
       "      <th>DiabetesPedigreeFunction</th>\n",
       "      <th>Age</th>\n",
       "      <th>Outcome</th>\n",
       "      <th>Age_for_the_nextFiveYears</th>\n",
       "    </tr>\n",
       "  </thead>\n",
       "  <tbody>\n",
       "    <tr>\n",
       "      <th>0</th>\n",
       "      <td>6</td>\n",
       "      <td>148.0</td>\n",
       "      <td>72.0</td>\n",
       "      <td>35.0</td>\n",
       "      <td>NaN</td>\n",
       "      <td>33.6</td>\n",
       "      <td>0.627</td>\n",
       "      <td>50</td>\n",
       "      <td>1</td>\n",
       "      <td>55</td>\n",
       "    </tr>\n",
       "    <tr>\n",
       "      <th>1</th>\n",
       "      <td>1</td>\n",
       "      <td>85.0</td>\n",
       "      <td>66.0</td>\n",
       "      <td>29.0</td>\n",
       "      <td>NaN</td>\n",
       "      <td>26.6</td>\n",
       "      <td>0.351</td>\n",
       "      <td>31</td>\n",
       "      <td>0</td>\n",
       "      <td>36</td>\n",
       "    </tr>\n",
       "    <tr>\n",
       "      <th>2</th>\n",
       "      <td>8</td>\n",
       "      <td>183.0</td>\n",
       "      <td>64.0</td>\n",
       "      <td>NaN</td>\n",
       "      <td>NaN</td>\n",
       "      <td>23.3</td>\n",
       "      <td>0.672</td>\n",
       "      <td>32</td>\n",
       "      <td>1</td>\n",
       "      <td>37</td>\n",
       "    </tr>\n",
       "    <tr>\n",
       "      <th>3</th>\n",
       "      <td>1</td>\n",
       "      <td>89.0</td>\n",
       "      <td>66.0</td>\n",
       "      <td>23.0</td>\n",
       "      <td>94.0</td>\n",
       "      <td>28.1</td>\n",
       "      <td>0.167</td>\n",
       "      <td>21</td>\n",
       "      <td>0</td>\n",
       "      <td>26</td>\n",
       "    </tr>\n",
       "    <tr>\n",
       "      <th>4</th>\n",
       "      <td>0</td>\n",
       "      <td>137.0</td>\n",
       "      <td>40.0</td>\n",
       "      <td>35.0</td>\n",
       "      <td>168.0</td>\n",
       "      <td>43.1</td>\n",
       "      <td>2.288</td>\n",
       "      <td>33</td>\n",
       "      <td>1</td>\n",
       "      <td>38</td>\n",
       "    </tr>\n",
       "  </tbody>\n",
       "</table>\n",
       "</div>"
      ],
      "text/plain": [
       "   Pregnancies  Glucose  BloodPressure  SkinThickness  Insulin   BMI  \\\n",
       "0            6    148.0           72.0           35.0      NaN  33.6   \n",
       "1            1     85.0           66.0           29.0      NaN  26.6   \n",
       "2            8    183.0           64.0            NaN      NaN  23.3   \n",
       "3            1     89.0           66.0           23.0     94.0  28.1   \n",
       "4            0    137.0           40.0           35.0    168.0  43.1   \n",
       "\n",
       "   DiabetesPedigreeFunction  Age  Outcome  Age_for_the_nextFiveYears  \n",
       "0                     0.627   50        1                         55  \n",
       "1                     0.351   31        0                         36  \n",
       "2                     0.672   32        1                         37  \n",
       "3                     0.167   21        0                         26  \n",
       "4                     2.288   33        1                         38  "
      ]
     },
     "execution_count": 189,
     "metadata": {},
     "output_type": "execute_result"
    }
   ],
   "source": [
    "# view first five of the dataset\n",
    "df.head()"
   ]
  },
  {
   "cell_type": "code",
   "execution_count": 190,
   "id": "867452b9",
   "metadata": {
    "scrolled": true
   },
   "outputs": [
    {
     "data": {
      "text/html": [
       "<div>\n",
       "<style scoped>\n",
       "    .dataframe tbody tr th:only-of-type {\n",
       "        vertical-align: middle;\n",
       "    }\n",
       "\n",
       "    .dataframe tbody tr th {\n",
       "        vertical-align: top;\n",
       "    }\n",
       "\n",
       "    .dataframe thead th {\n",
       "        text-align: right;\n",
       "    }\n",
       "</style>\n",
       "<table border=\"1\" class=\"dataframe\">\n",
       "  <thead>\n",
       "    <tr style=\"text-align: right;\">\n",
       "      <th></th>\n",
       "      <th>Pregnancies</th>\n",
       "      <th>Glucose</th>\n",
       "      <th>BloodPressure</th>\n",
       "      <th>SkinThickness</th>\n",
       "      <th>Insulin</th>\n",
       "      <th>BMI</th>\n",
       "      <th>DiabetesPedigreeFunction</th>\n",
       "      <th>Age</th>\n",
       "      <th>Outcome</th>\n",
       "      <th>Age_for_the_nextFiveYears</th>\n",
       "    </tr>\n",
       "  </thead>\n",
       "  <tbody>\n",
       "    <tr>\n",
       "      <th>count</th>\n",
       "      <td>768.000000</td>\n",
       "      <td>763.000000</td>\n",
       "      <td>733.000000</td>\n",
       "      <td>541.000000</td>\n",
       "      <td>394.000000</td>\n",
       "      <td>757.000000</td>\n",
       "      <td>768.000000</td>\n",
       "      <td>768.000000</td>\n",
       "      <td>768.000000</td>\n",
       "      <td>768.000000</td>\n",
       "    </tr>\n",
       "    <tr>\n",
       "      <th>mean</th>\n",
       "      <td>3.845052</td>\n",
       "      <td>121.686763</td>\n",
       "      <td>72.405184</td>\n",
       "      <td>29.153420</td>\n",
       "      <td>155.548223</td>\n",
       "      <td>32.457464</td>\n",
       "      <td>0.471876</td>\n",
       "      <td>33.240885</td>\n",
       "      <td>0.348958</td>\n",
       "      <td>38.240885</td>\n",
       "    </tr>\n",
       "    <tr>\n",
       "      <th>std</th>\n",
       "      <td>3.369578</td>\n",
       "      <td>30.535641</td>\n",
       "      <td>12.382158</td>\n",
       "      <td>10.476982</td>\n",
       "      <td>118.775855</td>\n",
       "      <td>6.924988</td>\n",
       "      <td>0.331329</td>\n",
       "      <td>11.760232</td>\n",
       "      <td>0.476951</td>\n",
       "      <td>11.760232</td>\n",
       "    </tr>\n",
       "    <tr>\n",
       "      <th>min</th>\n",
       "      <td>0.000000</td>\n",
       "      <td>44.000000</td>\n",
       "      <td>24.000000</td>\n",
       "      <td>7.000000</td>\n",
       "      <td>14.000000</td>\n",
       "      <td>18.200000</td>\n",
       "      <td>0.078000</td>\n",
       "      <td>21.000000</td>\n",
       "      <td>0.000000</td>\n",
       "      <td>26.000000</td>\n",
       "    </tr>\n",
       "    <tr>\n",
       "      <th>25%</th>\n",
       "      <td>1.000000</td>\n",
       "      <td>99.000000</td>\n",
       "      <td>64.000000</td>\n",
       "      <td>22.000000</td>\n",
       "      <td>76.250000</td>\n",
       "      <td>27.500000</td>\n",
       "      <td>0.243750</td>\n",
       "      <td>24.000000</td>\n",
       "      <td>0.000000</td>\n",
       "      <td>29.000000</td>\n",
       "    </tr>\n",
       "    <tr>\n",
       "      <th>50%</th>\n",
       "      <td>3.000000</td>\n",
       "      <td>117.000000</td>\n",
       "      <td>72.000000</td>\n",
       "      <td>29.000000</td>\n",
       "      <td>125.000000</td>\n",
       "      <td>32.300000</td>\n",
       "      <td>0.372500</td>\n",
       "      <td>29.000000</td>\n",
       "      <td>0.000000</td>\n",
       "      <td>34.000000</td>\n",
       "    </tr>\n",
       "    <tr>\n",
       "      <th>75%</th>\n",
       "      <td>6.000000</td>\n",
       "      <td>141.000000</td>\n",
       "      <td>80.000000</td>\n",
       "      <td>36.000000</td>\n",
       "      <td>190.000000</td>\n",
       "      <td>36.600000</td>\n",
       "      <td>0.626250</td>\n",
       "      <td>41.000000</td>\n",
       "      <td>1.000000</td>\n",
       "      <td>46.000000</td>\n",
       "    </tr>\n",
       "    <tr>\n",
       "      <th>max</th>\n",
       "      <td>17.000000</td>\n",
       "      <td>199.000000</td>\n",
       "      <td>122.000000</td>\n",
       "      <td>99.000000</td>\n",
       "      <td>846.000000</td>\n",
       "      <td>67.100000</td>\n",
       "      <td>2.420000</td>\n",
       "      <td>81.000000</td>\n",
       "      <td>1.000000</td>\n",
       "      <td>86.000000</td>\n",
       "    </tr>\n",
       "  </tbody>\n",
       "</table>\n",
       "</div>"
      ],
      "text/plain": [
       "       Pregnancies     Glucose  BloodPressure  SkinThickness     Insulin  \\\n",
       "count   768.000000  763.000000     733.000000     541.000000  394.000000   \n",
       "mean      3.845052  121.686763      72.405184      29.153420  155.548223   \n",
       "std       3.369578   30.535641      12.382158      10.476982  118.775855   \n",
       "min       0.000000   44.000000      24.000000       7.000000   14.000000   \n",
       "25%       1.000000   99.000000      64.000000      22.000000   76.250000   \n",
       "50%       3.000000  117.000000      72.000000      29.000000  125.000000   \n",
       "75%       6.000000  141.000000      80.000000      36.000000  190.000000   \n",
       "max      17.000000  199.000000     122.000000      99.000000  846.000000   \n",
       "\n",
       "              BMI  DiabetesPedigreeFunction         Age     Outcome  \\\n",
       "count  757.000000                768.000000  768.000000  768.000000   \n",
       "mean    32.457464                  0.471876   33.240885    0.348958   \n",
       "std      6.924988                  0.331329   11.760232    0.476951   \n",
       "min     18.200000                  0.078000   21.000000    0.000000   \n",
       "25%     27.500000                  0.243750   24.000000    0.000000   \n",
       "50%     32.300000                  0.372500   29.000000    0.000000   \n",
       "75%     36.600000                  0.626250   41.000000    1.000000   \n",
       "max     67.100000                  2.420000   81.000000    1.000000   \n",
       "\n",
       "       Age_for_the_nextFiveYears  \n",
       "count                 768.000000  \n",
       "mean                   38.240885  \n",
       "std                    11.760232  \n",
       "min                    26.000000  \n",
       "25%                    29.000000  \n",
       "50%                    34.000000  \n",
       "75%                    46.000000  \n",
       "max                    86.000000  "
      ]
     },
     "execution_count": 190,
     "metadata": {},
     "output_type": "execute_result"
    }
   ],
   "source": [
    "# Give a glimpse of the measure of central tendency and a bulk of measure of dispersion\n",
    "df.describe()"
   ]
  },
  {
   "cell_type": "code",
   "execution_count": 191,
   "id": "b864ff1b",
   "metadata": {},
   "outputs": [],
   "source": [
    "# fill NaN with the mean for features\n",
    "df.fillna(df.mean(), inplace=True)"
   ]
  },
  {
   "cell_type": "code",
   "execution_count": 192,
   "id": "576d5703",
   "metadata": {},
   "outputs": [
    {
     "data": {
      "text/html": [
       "<div>\n",
       "<style scoped>\n",
       "    .dataframe tbody tr th:only-of-type {\n",
       "        vertical-align: middle;\n",
       "    }\n",
       "\n",
       "    .dataframe tbody tr th {\n",
       "        vertical-align: top;\n",
       "    }\n",
       "\n",
       "    .dataframe thead th {\n",
       "        text-align: right;\n",
       "    }\n",
       "</style>\n",
       "<table border=\"1\" class=\"dataframe\">\n",
       "  <thead>\n",
       "    <tr style=\"text-align: right;\">\n",
       "      <th></th>\n",
       "      <th>Pregnancies</th>\n",
       "      <th>Glucose</th>\n",
       "      <th>BloodPressure</th>\n",
       "      <th>SkinThickness</th>\n",
       "      <th>Insulin</th>\n",
       "      <th>BMI</th>\n",
       "      <th>DiabetesPedigreeFunction</th>\n",
       "      <th>Age</th>\n",
       "      <th>Outcome</th>\n",
       "      <th>Age_for_the_nextFiveYears</th>\n",
       "    </tr>\n",
       "  </thead>\n",
       "  <tbody>\n",
       "    <tr>\n",
       "      <th>0</th>\n",
       "      <td>6</td>\n",
       "      <td>148.0</td>\n",
       "      <td>72.000000</td>\n",
       "      <td>35.00000</td>\n",
       "      <td>155.548223</td>\n",
       "      <td>33.600000</td>\n",
       "      <td>0.627</td>\n",
       "      <td>50</td>\n",
       "      <td>1</td>\n",
       "      <td>55</td>\n",
       "    </tr>\n",
       "    <tr>\n",
       "      <th>1</th>\n",
       "      <td>1</td>\n",
       "      <td>85.0</td>\n",
       "      <td>66.000000</td>\n",
       "      <td>29.00000</td>\n",
       "      <td>155.548223</td>\n",
       "      <td>26.600000</td>\n",
       "      <td>0.351</td>\n",
       "      <td>31</td>\n",
       "      <td>0</td>\n",
       "      <td>36</td>\n",
       "    </tr>\n",
       "    <tr>\n",
       "      <th>2</th>\n",
       "      <td>8</td>\n",
       "      <td>183.0</td>\n",
       "      <td>64.000000</td>\n",
       "      <td>29.15342</td>\n",
       "      <td>155.548223</td>\n",
       "      <td>23.300000</td>\n",
       "      <td>0.672</td>\n",
       "      <td>32</td>\n",
       "      <td>1</td>\n",
       "      <td>37</td>\n",
       "    </tr>\n",
       "    <tr>\n",
       "      <th>3</th>\n",
       "      <td>1</td>\n",
       "      <td>89.0</td>\n",
       "      <td>66.000000</td>\n",
       "      <td>23.00000</td>\n",
       "      <td>94.000000</td>\n",
       "      <td>28.100000</td>\n",
       "      <td>0.167</td>\n",
       "      <td>21</td>\n",
       "      <td>0</td>\n",
       "      <td>26</td>\n",
       "    </tr>\n",
       "    <tr>\n",
       "      <th>4</th>\n",
       "      <td>0</td>\n",
       "      <td>137.0</td>\n",
       "      <td>40.000000</td>\n",
       "      <td>35.00000</td>\n",
       "      <td>168.000000</td>\n",
       "      <td>43.100000</td>\n",
       "      <td>2.288</td>\n",
       "      <td>33</td>\n",
       "      <td>1</td>\n",
       "      <td>38</td>\n",
       "    </tr>\n",
       "    <tr>\n",
       "      <th>5</th>\n",
       "      <td>5</td>\n",
       "      <td>116.0</td>\n",
       "      <td>74.000000</td>\n",
       "      <td>29.15342</td>\n",
       "      <td>155.548223</td>\n",
       "      <td>25.600000</td>\n",
       "      <td>0.201</td>\n",
       "      <td>30</td>\n",
       "      <td>0</td>\n",
       "      <td>35</td>\n",
       "    </tr>\n",
       "    <tr>\n",
       "      <th>6</th>\n",
       "      <td>3</td>\n",
       "      <td>78.0</td>\n",
       "      <td>50.000000</td>\n",
       "      <td>32.00000</td>\n",
       "      <td>88.000000</td>\n",
       "      <td>31.000000</td>\n",
       "      <td>0.248</td>\n",
       "      <td>26</td>\n",
       "      <td>1</td>\n",
       "      <td>31</td>\n",
       "    </tr>\n",
       "    <tr>\n",
       "      <th>7</th>\n",
       "      <td>10</td>\n",
       "      <td>115.0</td>\n",
       "      <td>72.405184</td>\n",
       "      <td>29.15342</td>\n",
       "      <td>155.548223</td>\n",
       "      <td>35.300000</td>\n",
       "      <td>0.134</td>\n",
       "      <td>29</td>\n",
       "      <td>0</td>\n",
       "      <td>34</td>\n",
       "    </tr>\n",
       "    <tr>\n",
       "      <th>8</th>\n",
       "      <td>2</td>\n",
       "      <td>197.0</td>\n",
       "      <td>70.000000</td>\n",
       "      <td>45.00000</td>\n",
       "      <td>543.000000</td>\n",
       "      <td>30.500000</td>\n",
       "      <td>0.158</td>\n",
       "      <td>53</td>\n",
       "      <td>1</td>\n",
       "      <td>58</td>\n",
       "    </tr>\n",
       "    <tr>\n",
       "      <th>9</th>\n",
       "      <td>8</td>\n",
       "      <td>125.0</td>\n",
       "      <td>96.000000</td>\n",
       "      <td>29.15342</td>\n",
       "      <td>155.548223</td>\n",
       "      <td>32.457464</td>\n",
       "      <td>0.232</td>\n",
       "      <td>54</td>\n",
       "      <td>1</td>\n",
       "      <td>59</td>\n",
       "    </tr>\n",
       "    <tr>\n",
       "      <th>10</th>\n",
       "      <td>4</td>\n",
       "      <td>110.0</td>\n",
       "      <td>92.000000</td>\n",
       "      <td>29.15342</td>\n",
       "      <td>155.548223</td>\n",
       "      <td>37.600000</td>\n",
       "      <td>0.191</td>\n",
       "      <td>30</td>\n",
       "      <td>0</td>\n",
       "      <td>35</td>\n",
       "    </tr>\n",
       "    <tr>\n",
       "      <th>11</th>\n",
       "      <td>10</td>\n",
       "      <td>168.0</td>\n",
       "      <td>74.000000</td>\n",
       "      <td>29.15342</td>\n",
       "      <td>155.548223</td>\n",
       "      <td>38.000000</td>\n",
       "      <td>0.537</td>\n",
       "      <td>34</td>\n",
       "      <td>1</td>\n",
       "      <td>39</td>\n",
       "    </tr>\n",
       "    <tr>\n",
       "      <th>12</th>\n",
       "      <td>10</td>\n",
       "      <td>139.0</td>\n",
       "      <td>80.000000</td>\n",
       "      <td>29.15342</td>\n",
       "      <td>155.548223</td>\n",
       "      <td>27.100000</td>\n",
       "      <td>1.441</td>\n",
       "      <td>57</td>\n",
       "      <td>0</td>\n",
       "      <td>62</td>\n",
       "    </tr>\n",
       "    <tr>\n",
       "      <th>13</th>\n",
       "      <td>1</td>\n",
       "      <td>189.0</td>\n",
       "      <td>60.000000</td>\n",
       "      <td>23.00000</td>\n",
       "      <td>846.000000</td>\n",
       "      <td>30.100000</td>\n",
       "      <td>0.398</td>\n",
       "      <td>59</td>\n",
       "      <td>1</td>\n",
       "      <td>64</td>\n",
       "    </tr>\n",
       "    <tr>\n",
       "      <th>14</th>\n",
       "      <td>5</td>\n",
       "      <td>166.0</td>\n",
       "      <td>72.000000</td>\n",
       "      <td>19.00000</td>\n",
       "      <td>175.000000</td>\n",
       "      <td>25.800000</td>\n",
       "      <td>0.587</td>\n",
       "      <td>51</td>\n",
       "      <td>1</td>\n",
       "      <td>56</td>\n",
       "    </tr>\n",
       "    <tr>\n",
       "      <th>15</th>\n",
       "      <td>7</td>\n",
       "      <td>100.0</td>\n",
       "      <td>72.405184</td>\n",
       "      <td>29.15342</td>\n",
       "      <td>155.548223</td>\n",
       "      <td>30.000000</td>\n",
       "      <td>0.484</td>\n",
       "      <td>32</td>\n",
       "      <td>1</td>\n",
       "      <td>37</td>\n",
       "    </tr>\n",
       "    <tr>\n",
       "      <th>16</th>\n",
       "      <td>0</td>\n",
       "      <td>118.0</td>\n",
       "      <td>84.000000</td>\n",
       "      <td>47.00000</td>\n",
       "      <td>230.000000</td>\n",
       "      <td>45.800000</td>\n",
       "      <td>0.551</td>\n",
       "      <td>31</td>\n",
       "      <td>1</td>\n",
       "      <td>36</td>\n",
       "    </tr>\n",
       "    <tr>\n",
       "      <th>17</th>\n",
       "      <td>7</td>\n",
       "      <td>107.0</td>\n",
       "      <td>74.000000</td>\n",
       "      <td>29.15342</td>\n",
       "      <td>155.548223</td>\n",
       "      <td>29.600000</td>\n",
       "      <td>0.254</td>\n",
       "      <td>31</td>\n",
       "      <td>1</td>\n",
       "      <td>36</td>\n",
       "    </tr>\n",
       "    <tr>\n",
       "      <th>18</th>\n",
       "      <td>1</td>\n",
       "      <td>103.0</td>\n",
       "      <td>30.000000</td>\n",
       "      <td>38.00000</td>\n",
       "      <td>83.000000</td>\n",
       "      <td>43.300000</td>\n",
       "      <td>0.183</td>\n",
       "      <td>33</td>\n",
       "      <td>0</td>\n",
       "      <td>38</td>\n",
       "    </tr>\n",
       "    <tr>\n",
       "      <th>19</th>\n",
       "      <td>1</td>\n",
       "      <td>115.0</td>\n",
       "      <td>70.000000</td>\n",
       "      <td>30.00000</td>\n",
       "      <td>96.000000</td>\n",
       "      <td>34.600000</td>\n",
       "      <td>0.529</td>\n",
       "      <td>32</td>\n",
       "      <td>1</td>\n",
       "      <td>37</td>\n",
       "    </tr>\n",
       "  </tbody>\n",
       "</table>\n",
       "</div>"
      ],
      "text/plain": [
       "    Pregnancies  Glucose  BloodPressure  SkinThickness     Insulin        BMI  \\\n",
       "0             6    148.0      72.000000       35.00000  155.548223  33.600000   \n",
       "1             1     85.0      66.000000       29.00000  155.548223  26.600000   \n",
       "2             8    183.0      64.000000       29.15342  155.548223  23.300000   \n",
       "3             1     89.0      66.000000       23.00000   94.000000  28.100000   \n",
       "4             0    137.0      40.000000       35.00000  168.000000  43.100000   \n",
       "5             5    116.0      74.000000       29.15342  155.548223  25.600000   \n",
       "6             3     78.0      50.000000       32.00000   88.000000  31.000000   \n",
       "7            10    115.0      72.405184       29.15342  155.548223  35.300000   \n",
       "8             2    197.0      70.000000       45.00000  543.000000  30.500000   \n",
       "9             8    125.0      96.000000       29.15342  155.548223  32.457464   \n",
       "10            4    110.0      92.000000       29.15342  155.548223  37.600000   \n",
       "11           10    168.0      74.000000       29.15342  155.548223  38.000000   \n",
       "12           10    139.0      80.000000       29.15342  155.548223  27.100000   \n",
       "13            1    189.0      60.000000       23.00000  846.000000  30.100000   \n",
       "14            5    166.0      72.000000       19.00000  175.000000  25.800000   \n",
       "15            7    100.0      72.405184       29.15342  155.548223  30.000000   \n",
       "16            0    118.0      84.000000       47.00000  230.000000  45.800000   \n",
       "17            7    107.0      74.000000       29.15342  155.548223  29.600000   \n",
       "18            1    103.0      30.000000       38.00000   83.000000  43.300000   \n",
       "19            1    115.0      70.000000       30.00000   96.000000  34.600000   \n",
       "\n",
       "    DiabetesPedigreeFunction  Age  Outcome  Age_for_the_nextFiveYears  \n",
       "0                      0.627   50        1                         55  \n",
       "1                      0.351   31        0                         36  \n",
       "2                      0.672   32        1                         37  \n",
       "3                      0.167   21        0                         26  \n",
       "4                      2.288   33        1                         38  \n",
       "5                      0.201   30        0                         35  \n",
       "6                      0.248   26        1                         31  \n",
       "7                      0.134   29        0                         34  \n",
       "8                      0.158   53        1                         58  \n",
       "9                      0.232   54        1                         59  \n",
       "10                     0.191   30        0                         35  \n",
       "11                     0.537   34        1                         39  \n",
       "12                     1.441   57        0                         62  \n",
       "13                     0.398   59        1                         64  \n",
       "14                     0.587   51        1                         56  \n",
       "15                     0.484   32        1                         37  \n",
       "16                     0.551   31        1                         36  \n",
       "17                     0.254   31        1                         36  \n",
       "18                     0.183   33        0                         38  \n",
       "19                     0.529   32        1                         37  "
      ]
     },
     "execution_count": 192,
     "metadata": {},
     "output_type": "execute_result"
    }
   ],
   "source": [
    "df.head(20)"
   ]
  },
  {
   "cell_type": "code",
   "execution_count": 193,
   "id": "4dd29989",
   "metadata": {},
   "outputs": [
    {
     "data": {
      "text/plain": [
       "Pregnancies                  0\n",
       "Glucose                      0\n",
       "BloodPressure                0\n",
       "SkinThickness                0\n",
       "Insulin                      0\n",
       "BMI                          0\n",
       "DiabetesPedigreeFunction     0\n",
       "Age                          0\n",
       "Outcome                      0\n",
       "Age_for_the_nextFiveYears    0\n",
       "dtype: int64"
      ]
     },
     "execution_count": 193,
     "metadata": {},
     "output_type": "execute_result"
    }
   ],
   "source": [
    "# recheck for a missing value\n",
    "df.isnull().sum()"
   ]
  },
  {
   "cell_type": "code",
   "execution_count": 194,
   "id": "889fc17b",
   "metadata": {},
   "outputs": [
    {
     "data": {
      "text/plain": [
       "0    500\n",
       "1    268\n",
       "Name: Outcome, dtype: int64"
      ]
     },
     "execution_count": 194,
     "metadata": {},
     "output_type": "execute_result"
    }
   ],
   "source": [
    "# total count of the outcome variable based on it's labels\n",
    "df.Outcome.value_counts()"
   ]
  },
  {
   "cell_type": "code",
   "execution_count": 195,
   "id": "496f6770",
   "metadata": {},
   "outputs": [
    {
     "data": {
      "text/plain": [
       "Text(0.5, 1.0, 'A Bar Chart showing the frequencies of patients based on outcome')"
      ]
     },
     "execution_count": 195,
     "metadata": {},
     "output_type": "execute_result"
    },
    {
     "data": {
      "image/png": "[encoded data removed]",
      "text/plain": [
       "<Figure size 432x288 with 1 Axes>"
      ]
     },
     "metadata": {
      "needs_background": "light"
     },
     "output_type": "display_data"
    }
   ],
   "source": [
    "# plot outcome frequency\n",
    "fig = plt.figure()   # produce the figure\n",
    "\n",
    "df.Outcome.value_counts().plot (kind= 'bar', color='blue') # method for plotting\n",
    "plt.xlabel ('Outcome')\n",
    "plt.ylabel ('Number of patients')\n",
    "plt.title ('A Bar Chart showing the frequencies of patients based on outcome')"
   ]
  },
  {
   "cell_type": "code",
   "execution_count": 196,
   "id": "feb3103b",
   "metadata": {},
   "outputs": [
    {
     "data": {
      "text/plain": [
       "<AxesSubplot:>"
      ]
     },
     "execution_count": 196,
     "metadata": {},
     "output_type": "execute_result"
    },
    {
     "data": {
      "image/png": "[encoded data removed]",
      "text/plain": [
       "<Figure size 432x288 with 2 Axes>"
      ]
     },
     "metadata": {
      "needs_background": "light"
     },
     "output_type": "display_data"
    }
   ],
   "source": [
    "corr_mat = df.corr().round(2)  #creating a correlation matrix\n",
    "mask = np.triu(np.ones_like(corr_mat, dtype=bool))  #masking the matrix to remove upper triangle\n",
    "\n",
    "sns.heatmap(corr_mat, vmin= -1, vmax= 1, annot= True, center= 0, cmap= 'YlGnBu', mask=mask)"
   ]
  },
  {
   "cell_type": "code",
   "execution_count": 197,
   "id": "61455df8",
   "metadata": {},
   "outputs": [
    {
     "data": {
      "text/plain": [
       "Outcome\n",
       "0    [[AxesSubplot(0.125,0.725918;0.215278x0.154082...\n",
       "1    [[AxesSubplot(0.125,0.725918;0.215278x0.154082...\n",
       "dtype: object"
      ]
     },
     "execution_count": 197,
     "metadata": {},
     "output_type": "execute_result"
    },
    {
     "data": {
      "image/png": "[encoded data removed]",
      "text/plain": [
       "<Figure size 720x720 with 12 Axes>"
      ]
     },
     "metadata": {
      "needs_background": "light"
     },
     "output_type": "display_data"
    },
    {
     "data": {
      "image/png": "[encoded data removed]",
      "text/plain": [
       "<Figure size 720x720 with 12 Axes>"
      ]
     },
     "metadata": {
      "needs_background": "light"
     },
     "output_type": "display_data"
    }
   ],
   "source": [
    "#give hist plot of all variables based on the outcome labels\n",
    "df.groupby('Outcome').hist(figsize=(10, 10))"
   ]
  },
  {
   "cell_type": "code",
   "execution_count": 198,
   "id": "cd5b3f83",
   "metadata": {},
   "outputs": [
    {
     "data": {
      "text/plain": [
       "Text(0.5, 1.0, 'Boxplot for each variable')"
      ]
     },
     "execution_count": 198,
     "metadata": {},
     "output_type": "execute_result"
    },
    {
     "data": {
      "image/png": "[encoded data removed]",
      "text/plain": [
       "<Figure size 432x288 with 1 Axes>"
      ]
     },
     "metadata": {
      "needs_background": "light"
     },
     "output_type": "display_data"
    }
   ],
   "source": [
    "# a plot of boxplot to view outliers\n",
    "sns.boxplot(data=df, orient=\"h\", palette=\"Set1\")\n",
    "plt.title('Boxplot for each variable')"
   ]
  },
  {
   "cell_type": "code",
   "execution_count": 199,
   "id": "f7d8d391",
   "metadata": {},
   "outputs": [],
   "source": [
    "#calculate for inter quantile range to see actual outliers\n",
    "INR = df.quantile(q=0.75) - df.quantile(q=0.25) \n",
    "\n",
    "higher_outliers = df.quantile(q=0.75) + 0.15 * INR # higher band\n",
    "\n",
    "lower_outliers = df.quantile(q=0.25) - 0.15 * INR  # lower band"
   ]
  },
  {
   "cell_type": "code",
   "execution_count": 200,
   "id": "d1f9177f",
   "metadata": {},
   "outputs": [
    {
     "data": {
      "text/plain": [
       "Pregnancies                    0.250000\n",
       "Glucose                       93.675000\n",
       "BloodPressure                 61.600000\n",
       "SkinThickness                 23.950000\n",
       "Insulin                      116.392766\n",
       "BMI                           26.135000\n",
       "DiabetesPedigreeFunction       0.186375\n",
       "Age                           21.450000\n",
       "Outcome                       -0.150000\n",
       "Age_for_the_nextFiveYears     26.450000\n",
       "dtype: float64"
      ]
     },
     "execution_count": 200,
     "metadata": {},
     "output_type": "execute_result"
    }
   ],
   "source": [
    "lower_outliers"
   ]
  },
  {
   "cell_type": "code",
   "execution_count": 201,
   "id": "45df0435",
   "metadata": {},
   "outputs": [
    {
     "data": {
      "text/plain": [
       "Pregnancies                    6.750000\n",
       "Glucose                      146.325000\n",
       "BloodPressure                 82.400000\n",
       "SkinThickness                 33.050000\n",
       "Insulin                      160.655457\n",
       "BMI                           37.965000\n",
       "DiabetesPedigreeFunction       0.683625\n",
       "Age                           43.550000\n",
       "Outcome                        1.150000\n",
       "Age_for_the_nextFiveYears     48.550000\n",
       "dtype: float64"
      ]
     },
     "execution_count": 201,
     "metadata": {},
     "output_type": "execute_result"
    }
   ],
   "source": [
    "higher_outliers"
   ]
  },
  {
   "cell_type": "code",
   "execution_count": 202,
   "id": "b7cef729",
   "metadata": {},
   "outputs": [
    {
     "data": {
      "text/html": [
       "<div>\n",
       "<style scoped>\n",
       "    .dataframe tbody tr th:only-of-type {\n",
       "        vertical-align: middle;\n",
       "    }\n",
       "\n",
       "    .dataframe tbody tr th {\n",
       "        vertical-align: top;\n",
       "    }\n",
       "\n",
       "    .dataframe thead th {\n",
       "        text-align: right;\n",
       "    }\n",
       "</style>\n",
       "<table border=\"1\" class=\"dataframe\">\n",
       "  <thead>\n",
       "    <tr style=\"text-align: right;\">\n",
       "      <th></th>\n",
       "      <th>Pregnancies</th>\n",
       "      <th>Glucose</th>\n",
       "      <th>BloodPressure</th>\n",
       "      <th>SkinThickness</th>\n",
       "      <th>Insulin</th>\n",
       "      <th>BMI</th>\n",
       "      <th>DiabetesPedigreeFunction</th>\n",
       "      <th>Age</th>\n",
       "      <th>Outcome</th>\n",
       "      <th>Age_for_the_nextFiveYears</th>\n",
       "    </tr>\n",
       "  </thead>\n",
       "  <tbody>\n",
       "    <tr>\n",
       "      <th>0</th>\n",
       "      <td>6</td>\n",
       "      <td>148.0</td>\n",
       "      <td>72.000000</td>\n",
       "      <td>35.00000</td>\n",
       "      <td>155.548223</td>\n",
       "      <td>33.6</td>\n",
       "      <td>0.627</td>\n",
       "      <td>50</td>\n",
       "      <td>1</td>\n",
       "      <td>55</td>\n",
       "    </tr>\n",
       "    <tr>\n",
       "      <th>1</th>\n",
       "      <td>1</td>\n",
       "      <td>85.0</td>\n",
       "      <td>66.000000</td>\n",
       "      <td>29.00000</td>\n",
       "      <td>155.548223</td>\n",
       "      <td>26.6</td>\n",
       "      <td>0.351</td>\n",
       "      <td>31</td>\n",
       "      <td>0</td>\n",
       "      <td>36</td>\n",
       "    </tr>\n",
       "    <tr>\n",
       "      <th>2</th>\n",
       "      <td>8</td>\n",
       "      <td>183.0</td>\n",
       "      <td>64.000000</td>\n",
       "      <td>29.15342</td>\n",
       "      <td>155.548223</td>\n",
       "      <td>23.3</td>\n",
       "      <td>0.672</td>\n",
       "      <td>32</td>\n",
       "      <td>1</td>\n",
       "      <td>37</td>\n",
       "    </tr>\n",
       "    <tr>\n",
       "      <th>5</th>\n",
       "      <td>5</td>\n",
       "      <td>116.0</td>\n",
       "      <td>74.000000</td>\n",
       "      <td>29.15342</td>\n",
       "      <td>155.548223</td>\n",
       "      <td>25.6</td>\n",
       "      <td>0.201</td>\n",
       "      <td>30</td>\n",
       "      <td>0</td>\n",
       "      <td>35</td>\n",
       "    </tr>\n",
       "    <tr>\n",
       "      <th>7</th>\n",
       "      <td>10</td>\n",
       "      <td>115.0</td>\n",
       "      <td>72.405184</td>\n",
       "      <td>29.15342</td>\n",
       "      <td>155.548223</td>\n",
       "      <td>35.3</td>\n",
       "      <td>0.134</td>\n",
       "      <td>29</td>\n",
       "      <td>0</td>\n",
       "      <td>34</td>\n",
       "    </tr>\n",
       "    <tr>\n",
       "      <th>...</th>\n",
       "      <td>...</td>\n",
       "      <td>...</td>\n",
       "      <td>...</td>\n",
       "      <td>...</td>\n",
       "      <td>...</td>\n",
       "      <td>...</td>\n",
       "      <td>...</td>\n",
       "      <td>...</td>\n",
       "      <td>...</td>\n",
       "      <td>...</td>\n",
       "    </tr>\n",
       "    <tr>\n",
       "      <th>761</th>\n",
       "      <td>9</td>\n",
       "      <td>170.0</td>\n",
       "      <td>74.000000</td>\n",
       "      <td>31.00000</td>\n",
       "      <td>155.548223</td>\n",
       "      <td>44.0</td>\n",
       "      <td>0.403</td>\n",
       "      <td>43</td>\n",
       "      <td>1</td>\n",
       "      <td>48</td>\n",
       "    </tr>\n",
       "    <tr>\n",
       "      <th>762</th>\n",
       "      <td>9</td>\n",
       "      <td>89.0</td>\n",
       "      <td>62.000000</td>\n",
       "      <td>29.15342</td>\n",
       "      <td>155.548223</td>\n",
       "      <td>22.5</td>\n",
       "      <td>0.142</td>\n",
       "      <td>33</td>\n",
       "      <td>0</td>\n",
       "      <td>38</td>\n",
       "    </tr>\n",
       "    <tr>\n",
       "      <th>764</th>\n",
       "      <td>2</td>\n",
       "      <td>122.0</td>\n",
       "      <td>70.000000</td>\n",
       "      <td>27.00000</td>\n",
       "      <td>155.548223</td>\n",
       "      <td>36.8</td>\n",
       "      <td>0.340</td>\n",
       "      <td>27</td>\n",
       "      <td>0</td>\n",
       "      <td>32</td>\n",
       "    </tr>\n",
       "    <tr>\n",
       "      <th>766</th>\n",
       "      <td>1</td>\n",
       "      <td>126.0</td>\n",
       "      <td>60.000000</td>\n",
       "      <td>29.15342</td>\n",
       "      <td>155.548223</td>\n",
       "      <td>30.1</td>\n",
       "      <td>0.349</td>\n",
       "      <td>47</td>\n",
       "      <td>1</td>\n",
       "      <td>52</td>\n",
       "    </tr>\n",
       "    <tr>\n",
       "      <th>767</th>\n",
       "      <td>1</td>\n",
       "      <td>93.0</td>\n",
       "      <td>70.000000</td>\n",
       "      <td>31.00000</td>\n",
       "      <td>155.548223</td>\n",
       "      <td>30.4</td>\n",
       "      <td>0.315</td>\n",
       "      <td>23</td>\n",
       "      <td>0</td>\n",
       "      <td>28</td>\n",
       "    </tr>\n",
       "  </tbody>\n",
       "</table>\n",
       "<p>448 rows × 10 columns</p>\n",
       "</div>"
      ],
      "text/plain": [
       "     Pregnancies  Glucose  BloodPressure  SkinThickness     Insulin   BMI  \\\n",
       "0              6    148.0      72.000000       35.00000  155.548223  33.6   \n",
       "1              1     85.0      66.000000       29.00000  155.548223  26.6   \n",
       "2              8    183.0      64.000000       29.15342  155.548223  23.3   \n",
       "5              5    116.0      74.000000       29.15342  155.548223  25.6   \n",
       "7             10    115.0      72.405184       29.15342  155.548223  35.3   \n",
       "..           ...      ...            ...            ...         ...   ...   \n",
       "761            9    170.0      74.000000       31.00000  155.548223  44.0   \n",
       "762            9     89.0      62.000000       29.15342  155.548223  22.5   \n",
       "764            2    122.0      70.000000       27.00000  155.548223  36.8   \n",
       "766            1    126.0      60.000000       29.15342  155.548223  30.1   \n",
       "767            1     93.0      70.000000       31.00000  155.548223  30.4   \n",
       "\n",
       "     DiabetesPedigreeFunction  Age  Outcome  Age_for_the_nextFiveYears  \n",
       "0                       0.627   50        1                         55  \n",
       "1                       0.351   31        0                         36  \n",
       "2                       0.672   32        1                         37  \n",
       "5                       0.201   30        0                         35  \n",
       "7                       0.134   29        0                         34  \n",
       "..                        ...  ...      ...                        ...  \n",
       "761                     0.403   43        1                         48  \n",
       "762                     0.142   33        0                         38  \n",
       "764                     0.340   27        0                         32  \n",
       "766                     0.349   47        1                         52  \n",
       "767                     0.315   23        0                         28  \n",
       "\n",
       "[448 rows x 10 columns]"
      ]
     },
     "execution_count": 202,
     "metadata": {},
     "output_type": "execute_result"
    }
   ],
   "source": [
    "# removing outliers from the insulin column\n",
    "df[(df['Insulin'] <= higher_outliers['Insulin']) & (df['Insulin'] >= lower_outliers['Insulin'])]"
   ]
  },
  {
   "cell_type": "code",
   "execution_count": 203,
   "id": "397d6073",
   "metadata": {},
   "outputs": [
    {
     "data": {
      "text/html": [
       "<div>\n",
       "<style scoped>\n",
       "    .dataframe tbody tr th:only-of-type {\n",
       "        vertical-align: middle;\n",
       "    }\n",
       "\n",
       "    .dataframe tbody tr th {\n",
       "        vertical-align: top;\n",
       "    }\n",
       "\n",
       "    .dataframe thead th {\n",
       "        text-align: right;\n",
       "    }\n",
       "</style>\n",
       "<table border=\"1\" class=\"dataframe\">\n",
       "  <thead>\n",
       "    <tr style=\"text-align: right;\">\n",
       "      <th></th>\n",
       "      <th>Pregnancies</th>\n",
       "      <th>Glucose</th>\n",
       "      <th>BloodPressure</th>\n",
       "      <th>SkinThickness</th>\n",
       "      <th>Insulin</th>\n",
       "      <th>BMI</th>\n",
       "      <th>DiabetesPedigreeFunction</th>\n",
       "      <th>Age</th>\n",
       "      <th>Outcome</th>\n",
       "      <th>Age_for_the_nextFiveYears</th>\n",
       "    </tr>\n",
       "  </thead>\n",
       "  <tbody>\n",
       "    <tr>\n",
       "      <th>0</th>\n",
       "      <td>6</td>\n",
       "      <td>148.0</td>\n",
       "      <td>72.0</td>\n",
       "      <td>35.00000</td>\n",
       "      <td>155.548223</td>\n",
       "      <td>33.6</td>\n",
       "      <td>0.627</td>\n",
       "      <td>50</td>\n",
       "      <td>1</td>\n",
       "      <td>55</td>\n",
       "    </tr>\n",
       "    <tr>\n",
       "      <th>1</th>\n",
       "      <td>1</td>\n",
       "      <td>85.0</td>\n",
       "      <td>66.0</td>\n",
       "      <td>29.00000</td>\n",
       "      <td>155.548223</td>\n",
       "      <td>26.6</td>\n",
       "      <td>0.351</td>\n",
       "      <td>31</td>\n",
       "      <td>0</td>\n",
       "      <td>36</td>\n",
       "    </tr>\n",
       "    <tr>\n",
       "      <th>3</th>\n",
       "      <td>1</td>\n",
       "      <td>89.0</td>\n",
       "      <td>66.0</td>\n",
       "      <td>23.00000</td>\n",
       "      <td>94.000000</td>\n",
       "      <td>28.1</td>\n",
       "      <td>0.167</td>\n",
       "      <td>21</td>\n",
       "      <td>0</td>\n",
       "      <td>26</td>\n",
       "    </tr>\n",
       "    <tr>\n",
       "      <th>5</th>\n",
       "      <td>5</td>\n",
       "      <td>116.0</td>\n",
       "      <td>74.0</td>\n",
       "      <td>29.15342</td>\n",
       "      <td>155.548223</td>\n",
       "      <td>25.6</td>\n",
       "      <td>0.201</td>\n",
       "      <td>30</td>\n",
       "      <td>0</td>\n",
       "      <td>35</td>\n",
       "    </tr>\n",
       "    <tr>\n",
       "      <th>6</th>\n",
       "      <td>3</td>\n",
       "      <td>78.0</td>\n",
       "      <td>50.0</td>\n",
       "      <td>32.00000</td>\n",
       "      <td>88.000000</td>\n",
       "      <td>31.0</td>\n",
       "      <td>0.248</td>\n",
       "      <td>26</td>\n",
       "      <td>1</td>\n",
       "      <td>31</td>\n",
       "    </tr>\n",
       "    <tr>\n",
       "      <th>...</th>\n",
       "      <td>...</td>\n",
       "      <td>...</td>\n",
       "      <td>...</td>\n",
       "      <td>...</td>\n",
       "      <td>...</td>\n",
       "      <td>...</td>\n",
       "      <td>...</td>\n",
       "      <td>...</td>\n",
       "      <td>...</td>\n",
       "      <td>...</td>\n",
       "    </tr>\n",
       "    <tr>\n",
       "      <th>760</th>\n",
       "      <td>2</td>\n",
       "      <td>88.0</td>\n",
       "      <td>58.0</td>\n",
       "      <td>26.00000</td>\n",
       "      <td>16.000000</td>\n",
       "      <td>28.4</td>\n",
       "      <td>0.766</td>\n",
       "      <td>22</td>\n",
       "      <td>0</td>\n",
       "      <td>27</td>\n",
       "    </tr>\n",
       "    <tr>\n",
       "      <th>764</th>\n",
       "      <td>2</td>\n",
       "      <td>122.0</td>\n",
       "      <td>70.0</td>\n",
       "      <td>27.00000</td>\n",
       "      <td>155.548223</td>\n",
       "      <td>36.8</td>\n",
       "      <td>0.340</td>\n",
       "      <td>27</td>\n",
       "      <td>0</td>\n",
       "      <td>32</td>\n",
       "    </tr>\n",
       "    <tr>\n",
       "      <th>765</th>\n",
       "      <td>5</td>\n",
       "      <td>121.0</td>\n",
       "      <td>72.0</td>\n",
       "      <td>23.00000</td>\n",
       "      <td>112.000000</td>\n",
       "      <td>26.2</td>\n",
       "      <td>0.245</td>\n",
       "      <td>30</td>\n",
       "      <td>0</td>\n",
       "      <td>35</td>\n",
       "    </tr>\n",
       "    <tr>\n",
       "      <th>766</th>\n",
       "      <td>1</td>\n",
       "      <td>126.0</td>\n",
       "      <td>60.0</td>\n",
       "      <td>29.15342</td>\n",
       "      <td>155.548223</td>\n",
       "      <td>30.1</td>\n",
       "      <td>0.349</td>\n",
       "      <td>47</td>\n",
       "      <td>1</td>\n",
       "      <td>52</td>\n",
       "    </tr>\n",
       "    <tr>\n",
       "      <th>767</th>\n",
       "      <td>1</td>\n",
       "      <td>93.0</td>\n",
       "      <td>70.0</td>\n",
       "      <td>31.00000</td>\n",
       "      <td>155.548223</td>\n",
       "      <td>30.4</td>\n",
       "      <td>0.315</td>\n",
       "      <td>23</td>\n",
       "      <td>0</td>\n",
       "      <td>28</td>\n",
       "    </tr>\n",
       "  </tbody>\n",
       "</table>\n",
       "<p>488 rows × 10 columns</p>\n",
       "</div>"
      ],
      "text/plain": [
       "     Pregnancies  Glucose  BloodPressure  SkinThickness     Insulin   BMI  \\\n",
       "0              6    148.0           72.0       35.00000  155.548223  33.6   \n",
       "1              1     85.0           66.0       29.00000  155.548223  26.6   \n",
       "3              1     89.0           66.0       23.00000   94.000000  28.1   \n",
       "5              5    116.0           74.0       29.15342  155.548223  25.6   \n",
       "6              3     78.0           50.0       32.00000   88.000000  31.0   \n",
       "..           ...      ...            ...            ...         ...   ...   \n",
       "760            2     88.0           58.0       26.00000   16.000000  28.4   \n",
       "764            2    122.0           70.0       27.00000  155.548223  36.8   \n",
       "765            5    121.0           72.0       23.00000  112.000000  26.2   \n",
       "766            1    126.0           60.0       29.15342  155.548223  30.1   \n",
       "767            1     93.0           70.0       31.00000  155.548223  30.4   \n",
       "\n",
       "     DiabetesPedigreeFunction  Age  Outcome  Age_for_the_nextFiveYears  \n",
       "0                       0.627   50        1                         55  \n",
       "1                       0.351   31        0                         36  \n",
       "3                       0.167   21        0                         26  \n",
       "5                       0.201   30        0                         35  \n",
       "6                       0.248   26        1                         31  \n",
       "..                        ...  ...      ...                        ...  \n",
       "760                     0.766   22        0                         27  \n",
       "764                     0.340   27        0                         32  \n",
       "765                     0.245   30        0                         35  \n",
       "766                     0.349   47        1                         52  \n",
       "767                     0.315   23        0                         28  \n",
       "\n",
       "[488 rows x 10 columns]"
      ]
     },
     "execution_count": 203,
     "metadata": {},
     "output_type": "execute_result"
    }
   ],
   "source": [
    "# removing outliers from the pregnanacy column\n",
    "df[(df['Pregnancies'] <= higher_outliers['Pregnancies']) & (df['Pregnancies'] >= lower_outliers['Pregnancies'])]"
   ]
  },
  {
   "cell_type": "markdown",
   "id": "06b414a0",
   "metadata": {},
   "source": [
    "# Create dependent and independent variable"
   ]
  },
  {
   "cell_type": "code",
   "execution_count": 204,
   "id": "77bfdf0f",
   "metadata": {},
   "outputs": [],
   "source": [
    "# create indepedent variable named x\n",
    "x = df.drop(columns=['Outcome','Age_for_the_nextFiveYears']).values\n",
    "#create dependent variable named y\n",
    "y = df.iloc[:, 8].values"
   ]
  },
  {
   "cell_type": "markdown",
   "id": "f29a334c",
   "metadata": {},
   "source": [
    "# Split data to test and train"
   ]
  },
  {
   "cell_type": "code",
   "execution_count": 205,
   "id": "a835e96a",
   "metadata": {},
   "outputs": [],
   "source": [
    "# split x and y to train and test and specify test smaple size.\n",
    "from sklearn.model_selection import train_test_split\n",
    "x_train, x_test, y_train, y_test  = train_test_split (x, y, random_state=0, test_size=0.3)"
   ]
  },
  {
   "cell_type": "markdown",
   "id": "0ee8a38f",
   "metadata": {},
   "source": [
    "# Feature scaling"
   ]
  },
  {
   "cell_type": "code",
   "execution_count": 206,
   "id": "6df6d890",
   "metadata": {},
   "outputs": [],
   "source": [
    "# from sklearn imoort  a feature scaler for the dependent variable\n",
    "from sklearn.preprocessing import StandardScaler\n",
    "ss = StandardScaler()\n",
    "x_train = ss.fit_transform(x_train)\n",
    "x_test = ss.fit_transform(x_test)"
   ]
  },
  {
   "cell_type": "code",
   "execution_count": 207,
   "id": "fc8dadfc",
   "metadata": {},
   "outputs": [
    {
     "name": "stdout",
     "output_type": "stream",
     "text": [
      "[[-1.13311543  0.93781255  1.42744524 ...  1.34144166 -0.3002719\n",
      "  -1.05654479]\n",
      " [-0.8391623  -1.29587071 -0.42391913 ... -2.08332991  0.45699051\n",
      "  -0.55622332]\n",
      " [-0.54520916 -0.01478766 -0.25561327 ...  0.58197349 -0.39305899\n",
      "  -0.55622332]\n",
      " ...\n",
      " [ 0.0426971  -0.93453959 -0.6763779  ... -1.15190668 -0.96774035\n",
      "  -1.05654479]\n",
      " [ 2.10036903 -1.23017414  0.08099843 ... -0.37810892 -0.51278428\n",
      "   0.11087198]\n",
      " [ 0.33665024  0.4450883   0.75422183 ... -0.04029409  0.50488062\n",
      "   2.94602702]]\n"
     ]
    }
   ],
   "source": [
    "# show the values of x\n",
    "print(x_train)"
   ]
  },
  {
   "cell_type": "code",
   "execution_count": 208,
   "id": "157f7846",
   "metadata": {},
   "outputs": [
    {
     "name": "stdout",
     "output_type": "stream",
     "text": [
      "[[-0.85904815  2.61194767  0.40748633 ...  1.68977455  2.84152033\n",
      "  -0.92178738]\n",
      " [-0.55469213 -0.42643211  0.24657434 ...  0.27353564 -0.21344264\n",
      "  -0.83179039]\n",
      " [ 0.0540199  -1.45023399 -0.71889759 ...  0.33444914 -0.25355832\n",
      "  -0.6517964 ]\n",
      " ...\n",
      " [-0.85904815 -0.82274251 -0.87980957 ... -1.20361676 -0.6578009\n",
      "  -0.92178738]\n",
      " [-0.85904815 -0.45945797  0.40748633 ...  0.86744228 -0.85220763\n",
      "  -0.56179941]\n",
      " [ 1.88015599  0.0689559   0.56839832 ... -0.64016688  0.11982604\n",
      "   1.14814346]]\n"
     ]
    }
   ],
   "source": [
    "print(x_test)"
   ]
  },
  {
   "cell_type": "markdown",
   "id": "b8cc4602",
   "metadata": {},
   "source": [
    "# Train model"
   ]
  },
  {
   "cell_type": "code",
   "execution_count": 209,
   "id": "8d05ff7f",
   "metadata": {},
   "outputs": [
    {
     "data": {
      "text/plain": [
       "LogisticRegression()"
      ]
     },
     "execution_count": 209,
     "metadata": {},
     "output_type": "execute_result"
    }
   ],
   "source": [
    "from sklearn.linear_model import LogisticRegression\n",
    "logistic_regres = LogisticRegression()\n",
    "logistic_regres.fit(x_train, y_train)"
   ]
  },
  {
   "cell_type": "code",
   "execution_count": 210,
   "id": "99467f2a",
   "metadata": {},
   "outputs": [
    {
     "data": {
      "text/plain": [
       "GaussianNB()"
      ]
     },
     "execution_count": 210,
     "metadata": {},
     "output_type": "execute_result"
    }
   ],
   "source": [
    "from sklearn.naive_bayes import GaussianNB\n",
    "baiyes_class = GaussianNB()\n",
    "baiyes_class.fit(x_train, y_train)"
   ]
  },
  {
   "cell_type": "code",
   "execution_count": 211,
   "id": "8c60ee09",
   "metadata": {},
   "outputs": [
    {
     "data": {
      "text/plain": [
       "SGDClassifier(loss='modified_huber', random_state=0)"
      ]
     },
     "execution_count": 211,
     "metadata": {},
     "output_type": "execute_result"
    }
   ],
   "source": [
    "from sklearn.linear_model import SGDClassifier\n",
    "sgdc_class = SGDClassifier(loss='modified_huber', shuffle=True, random_state=0)\n",
    "sgdc_class.fit(x_train, y_train)"
   ]
  },
  {
   "cell_type": "code",
   "execution_count": 212,
   "id": "cd9e349d",
   "metadata": {},
   "outputs": [
    {
     "data": {
      "text/plain": [
       "KNeighborsClassifier()"
      ]
     },
     "execution_count": 212,
     "metadata": {},
     "output_type": "execute_result"
    }
   ],
   "source": [
    "from sklearn.neighbors import KNeighborsClassifier\n",
    "knn = KNeighborsClassifier(n_neighbors= 5, metric= 'minkowski', p= 2)\n",
    "knn.fit(x_train, y_train)"
   ]
  },
  {
   "cell_type": "code",
   "execution_count": 213,
   "id": "e434e693",
   "metadata": {},
   "outputs": [
    {
     "data": {
      "text/plain": [
       "DecisionTreeClassifier(criterion='entropy', random_state=0)"
      ]
     },
     "execution_count": 213,
     "metadata": {},
     "output_type": "execute_result"
    }
   ],
   "source": [
    "from sklearn.tree import DecisionTreeClassifier\n",
    "tree_class = DecisionTreeClassifier(criterion = 'entropy', random_state = 0)\n",
    "tree_class.fit(x_train, y_train)"
   ]
  },
  {
   "cell_type": "code",
   "execution_count": 214,
   "id": "ca83b864",
   "metadata": {},
   "outputs": [
    {
     "data": {
      "text/plain": [
       "SVC(kernel='linear', random_state=0)"
      ]
     },
     "execution_count": 214,
     "metadata": {},
     "output_type": "execute_result"
    }
   ],
   "source": [
    "from sklearn.svm import SVC\n",
    "svm_class = SVC(kernel='linear', random_state=0)\n",
    "svm_class.fit(x_train, y_train)"
   ]
  },
  {
   "cell_type": "code",
   "execution_count": 215,
   "id": "5e9a5270",
   "metadata": {},
   "outputs": [
    {
     "data": {
      "text/plain": [
       "RandomForestClassifier(n_estimators=50, oob_score=True, random_state=0)"
      ]
     },
     "execution_count": 215,
     "metadata": {},
     "output_type": "execute_result"
    }
   ],
   "source": [
    "from sklearn.ensemble import RandomForestClassifier\n",
    "forest_class = RandomForestClassifier(n_estimators=50, random_state=0, oob_score=True )\n",
    "forest_class.fit(x_train, y_train)"
   ]
  },
  {
   "cell_type": "markdown",
   "id": "0cc24929",
   "metadata": {},
   "source": [
    "# Predict model"
   ]
  },
  {
   "cell_type": "code",
   "execution_count": 216,
   "id": "9206f39f",
   "metadata": {},
   "outputs": [
    {
     "data": {
      "text/plain": [
       "array([1, 0, 0, 1, 0, 0, 1, 1, 0, 0, 1, 1, 0, 0, 0, 0, 1, 0, 0, 0, 1, 0,\n",
       "       0, 0, 0, 0, 0, 1, 0, 0, 1, 0, 0, 0, 0, 1, 0, 0, 0, 1, 0, 0, 0, 1,\n",
       "       1, 0, 0, 0, 0, 0, 0, 0, 1, 0, 0, 0, 0, 1, 0, 0, 1, 1, 0, 1, 1, 1,\n",
       "       1, 0, 0, 0, 0, 0, 0, 1, 1, 0, 0, 1, 0, 0, 0, 0, 0, 0, 0, 0, 0, 1,\n",
       "       1, 0, 0, 0, 0, 0, 1, 0, 0, 1, 1, 0, 0, 0, 0, 0, 1, 0, 0, 0, 0, 1,\n",
       "       0, 0, 1, 0, 1, 1, 0, 1, 0, 1, 0, 0, 0, 1, 0, 0, 0, 0, 1, 0, 0, 0,\n",
       "       0, 1, 0, 0, 0, 0, 0, 0, 0, 1, 0, 0, 0, 0, 0, 0, 0, 0, 0, 1, 0, 0,\n",
       "       1, 0, 1, 0, 0, 1, 1, 1, 0, 0, 1, 0, 0, 0, 0, 0, 0, 0, 0, 0, 1, 0,\n",
       "       0, 0, 0, 0, 0, 1, 0, 1, 1, 0, 1, 0, 0, 0, 0, 0, 0, 0, 0, 1, 1, 1,\n",
       "       0, 0, 0, 0, 0, 0, 0, 0, 0, 0, 0, 0, 0, 0, 0, 0, 0, 0, 0, 0, 1, 0,\n",
       "       0, 0, 0, 1, 1, 1, 0, 0, 0, 0, 0], dtype=int64)"
      ]
     },
     "execution_count": 216,
     "metadata": {},
     "output_type": "execute_result"
    }
   ],
   "source": [
    "y_pred1 = logistic_regres.predict(x_test)\n",
    "y_pred1"
   ]
  },
  {
   "cell_type": "code",
   "execution_count": 217,
   "id": "36640d2f",
   "metadata": {},
   "outputs": [
    {
     "data": {
      "text/plain": [
       "array([1, 0, 0, 1, 0, 0, 1, 1, 1, 0, 1, 1, 0, 0, 0, 0, 1, 0, 0, 0, 1, 0,\n",
       "       0, 0, 0, 0, 0, 1, 0, 0, 0, 0, 0, 0, 0, 1, 1, 0, 0, 1, 0, 0, 0, 1,\n",
       "       1, 0, 0, 0, 0, 0, 0, 0, 1, 1, 0, 0, 0, 1, 0, 0, 1, 1, 0, 0, 1, 1,\n",
       "       1, 0, 0, 0, 0, 0, 0, 1, 1, 0, 1, 1, 0, 0, 0, 1, 0, 0, 0, 0, 0, 0,\n",
       "       1, 0, 0, 0, 0, 0, 1, 0, 0, 1, 1, 0, 1, 0, 0, 0, 1, 0, 0, 0, 0, 1,\n",
       "       0, 0, 1, 1, 1, 1, 0, 1, 0, 1, 0, 1, 0, 1, 0, 0, 0, 0, 0, 1, 0, 0,\n",
       "       0, 1, 0, 1, 0, 0, 0, 0, 0, 0, 0, 0, 0, 0, 0, 0, 0, 0, 0, 1, 0, 0,\n",
       "       1, 0, 1, 0, 0, 1, 1, 1, 0, 0, 1, 0, 1, 0, 0, 0, 0, 0, 0, 0, 0, 0,\n",
       "       0, 0, 0, 0, 0, 1, 0, 1, 0, 0, 0, 0, 0, 0, 0, 0, 0, 0, 0, 1, 1, 1,\n",
       "       0, 0, 0, 0, 0, 1, 0, 0, 0, 0, 0, 0, 0, 0, 0, 0, 0, 1, 0, 0, 1, 0,\n",
       "       0, 0, 1, 1, 1, 1, 0, 0, 0, 0, 1], dtype=int64)"
      ]
     },
     "execution_count": 217,
     "metadata": {},
     "output_type": "execute_result"
    }
   ],
   "source": [
    "y_pred2 = baiyes_class.predict(x_test)\n",
    "y_pred2"
   ]
  },
  {
   "cell_type": "code",
   "execution_count": 218,
   "id": "dcdf4a12",
   "metadata": {},
   "outputs": [
    {
     "data": {
      "text/plain": [
       "array([1, 0, 0, 1, 0, 0, 1, 1, 1, 0, 1, 1, 1, 0, 0, 0, 1, 0, 1, 0, 1, 0,\n",
       "       0, 0, 0, 0, 0, 1, 0, 0, 1, 0, 0, 0, 0, 1, 1, 0, 0, 1, 0, 0, 0, 1,\n",
       "       1, 0, 0, 0, 0, 0, 1, 0, 1, 1, 0, 0, 0, 0, 0, 0, 1, 1, 0, 0, 1, 1,\n",
       "       1, 1, 0, 0, 0, 0, 0, 1, 1, 1, 0, 1, 0, 0, 0, 0, 0, 0, 0, 0, 0, 0,\n",
       "       1, 0, 0, 0, 0, 0, 1, 0, 0, 1, 0, 0, 0, 0, 0, 0, 0, 0, 0, 0, 0, 1,\n",
       "       0, 0, 1, 0, 1, 1, 1, 1, 0, 1, 0, 1, 0, 1, 0, 0, 1, 0, 1, 1, 0, 0,\n",
       "       0, 1, 0, 0, 0, 0, 1, 0, 0, 1, 0, 0, 0, 0, 0, 0, 0, 0, 0, 1, 0, 0,\n",
       "       1, 0, 1, 0, 0, 1, 1, 1, 0, 0, 1, 0, 0, 0, 0, 0, 0, 0, 0, 0, 1, 0,\n",
       "       0, 0, 0, 0, 0, 1, 0, 1, 0, 0, 0, 0, 0, 0, 1, 0, 0, 0, 0, 1, 0, 1,\n",
       "       0, 1, 0, 1, 0, 1, 0, 0, 0, 0, 1, 0, 0, 0, 1, 0, 0, 0, 0, 0, 1, 0,\n",
       "       0, 0, 0, 1, 0, 1, 1, 0, 0, 0, 1], dtype=int64)"
      ]
     },
     "execution_count": 218,
     "metadata": {},
     "output_type": "execute_result"
    }
   ],
   "source": [
    "y_pred3 = sgdc_class.predict(x_test)\n",
    "y_pred3"
   ]
  },
  {
   "cell_type": "code",
   "execution_count": 219,
   "id": "d9950500",
   "metadata": {},
   "outputs": [
    {
     "data": {
      "text/plain": [
       "array([1, 0, 1, 1, 0, 0, 1, 1, 1, 0, 1, 1, 0, 0, 1, 1, 1, 0, 0, 1, 0, 0,\n",
       "       0, 1, 0, 1, 0, 1, 0, 1, 1, 1, 1, 1, 1, 1, 1, 0, 0, 1, 0, 1, 0, 0,\n",
       "       1, 0, 0, 0, 0, 0, 0, 0, 1, 0, 1, 0, 0, 0, 1, 0, 1, 1, 0, 0, 1, 1,\n",
       "       1, 0, 1, 1, 0, 0, 1, 1, 1, 0, 0, 1, 1, 1, 0, 1, 0, 0, 1, 0, 0, 0,\n",
       "       1, 0, 0, 0, 0, 0, 1, 1, 1, 0, 0, 1, 1, 0, 0, 0, 1, 1, 0, 1, 0, 1,\n",
       "       0, 0, 0, 0, 1, 0, 0, 1, 0, 1, 1, 0, 0, 0, 0, 0, 0, 1, 0, 1, 0, 1,\n",
       "       0, 1, 0, 0, 0, 1, 0, 0, 0, 1, 0, 0, 0, 0, 0, 1, 0, 0, 0, 1, 0, 1,\n",
       "       1, 0, 1, 0, 1, 1, 1, 0, 0, 0, 1, 0, 0, 0, 1, 0, 0, 0, 1, 1, 1, 0,\n",
       "       0, 0, 1, 0, 0, 0, 0, 1, 1, 0, 0, 1, 0, 0, 1, 0, 0, 0, 1, 0, 1, 0,\n",
       "       0, 0, 0, 0, 0, 0, 0, 1, 1, 0, 1, 0, 0, 0, 0, 0, 0, 0, 1, 1, 0, 1,\n",
       "       0, 0, 0, 1, 1, 1, 1, 0, 0, 0, 1], dtype=int64)"
      ]
     },
     "execution_count": 219,
     "metadata": {},
     "output_type": "execute_result"
    }
   ],
   "source": [
    "y_pred4 = tree_class.predict(x_test)\n",
    "y_pred4"
   ]
  },
  {
   "cell_type": "code",
   "execution_count": 220,
   "id": "e36c8125",
   "metadata": {},
   "outputs": [
    {
     "data": {
      "text/plain": [
       "array([1, 0, 0, 1, 0, 0, 1, 1, 0, 0, 1, 1, 0, 0, 0, 0, 1, 0, 0, 0, 1, 0,\n",
       "       0, 0, 0, 0, 0, 1, 0, 0, 0, 0, 0, 0, 0, 1, 0, 0, 0, 1, 0, 0, 0, 1,\n",
       "       1, 0, 0, 0, 0, 0, 0, 0, 1, 0, 0, 0, 0, 1, 0, 0, 1, 1, 0, 1, 1, 1,\n",
       "       1, 0, 0, 0, 0, 0, 0, 1, 1, 0, 0, 1, 0, 0, 0, 0, 0, 0, 0, 0, 0, 0,\n",
       "       1, 0, 0, 0, 0, 0, 1, 0, 0, 1, 1, 0, 0, 0, 0, 0, 1, 0, 0, 0, 0, 1,\n",
       "       0, 0, 1, 0, 1, 1, 0, 1, 0, 1, 0, 0, 0, 1, 0, 0, 0, 0, 0, 0, 0, 0,\n",
       "       0, 1, 0, 0, 0, 0, 0, 0, 0, 1, 0, 0, 0, 0, 0, 0, 0, 0, 0, 1, 0, 0,\n",
       "       1, 0, 1, 0, 0, 1, 1, 1, 0, 0, 1, 0, 0, 0, 0, 0, 0, 0, 0, 0, 1, 0,\n",
       "       0, 0, 0, 0, 0, 1, 0, 1, 0, 0, 1, 0, 0, 0, 0, 0, 0, 0, 0, 1, 1, 1,\n",
       "       0, 0, 0, 0, 0, 0, 0, 0, 0, 0, 0, 0, 0, 0, 0, 0, 0, 0, 0, 0, 1, 0,\n",
       "       0, 0, 0, 1, 1, 1, 0, 0, 0, 0, 0], dtype=int64)"
      ]
     },
     "execution_count": 220,
     "metadata": {},
     "output_type": "execute_result"
    }
   ],
   "source": [
    "y_pred5 = svm_class.predict(x_test)\n",
    "y_pred5"
   ]
  },
  {
   "cell_type": "code",
   "execution_count": 221,
   "id": "439d95cd",
   "metadata": {},
   "outputs": [
    {
     "data": {
      "text/plain": [
       "array([1, 1, 0, 0, 0, 0, 1, 1, 0, 0, 1, 1, 0, 0, 0, 0, 1, 0, 0, 0, 1, 0,\n",
       "       0, 0, 0, 0, 0, 1, 0, 0, 1, 0, 0, 1, 0, 1, 1, 0, 0, 1, 0, 0, 0, 1,\n",
       "       1, 0, 0, 0, 1, 0, 1, 0, 1, 1, 0, 0, 0, 1, 0, 0, 1, 0, 0, 0, 1, 1,\n",
       "       1, 0, 0, 0, 0, 0, 0, 1, 1, 0, 0, 1, 0, 0, 0, 1, 0, 0, 0, 0, 0, 1,\n",
       "       1, 0, 0, 0, 0, 0, 1, 0, 0, 1, 1, 1, 0, 0, 0, 0, 0, 1, 0, 0, 0, 1,\n",
       "       0, 0, 1, 1, 0, 1, 0, 0, 0, 1, 0, 1, 0, 0, 0, 0, 0, 0, 0, 0, 0, 0,\n",
       "       0, 0, 0, 1, 0, 1, 1, 0, 0, 1, 0, 0, 1, 0, 0, 0, 1, 0, 0, 1, 0, 0,\n",
       "       1, 0, 0, 0, 1, 1, 0, 0, 0, 0, 1, 0, 1, 0, 0, 1, 0, 0, 0, 0, 0, 0,\n",
       "       0, 0, 0, 0, 0, 1, 0, 1, 1, 0, 1, 0, 0, 0, 0, 0, 0, 0, 0, 1, 1, 1,\n",
       "       0, 0, 0, 0, 0, 1, 0, 0, 0, 0, 1, 0, 0, 0, 0, 0, 0, 0, 1, 0, 1, 0,\n",
       "       0, 0, 1, 0, 1, 0, 0, 0, 0, 0, 1], dtype=int64)"
      ]
     },
     "execution_count": 221,
     "metadata": {},
     "output_type": "execute_result"
    }
   ],
   "source": [
    "y_pred6 = knn.predict(x_test)\n",
    "y_pred6"
   ]
  },
  {
   "cell_type": "code",
   "execution_count": 222,
   "id": "9de4512a",
   "metadata": {},
   "outputs": [
    {
     "data": {
      "text/plain": [
       "array([1, 0, 0, 0, 0, 0, 1, 1, 0, 0, 1, 1, 0, 0, 1, 0, 1, 0, 0, 0, 1, 0,\n",
       "       0, 0, 0, 0, 0, 1, 0, 0, 0, 0, 0, 1, 0, 1, 0, 0, 0, 1, 0, 0, 0, 1,\n",
       "       1, 0, 0, 0, 0, 0, 0, 0, 1, 1, 0, 0, 0, 0, 0, 0, 1, 1, 0, 0, 1, 0,\n",
       "       1, 0, 1, 0, 0, 0, 0, 1, 1, 1, 0, 1, 0, 0, 0, 0, 0, 0, 0, 0, 0, 0,\n",
       "       1, 0, 0, 0, 0, 0, 1, 0, 0, 0, 0, 1, 0, 0, 0, 0, 1, 1, 0, 0, 0, 0,\n",
       "       0, 1, 1, 1, 1, 1, 0, 0, 0, 1, 1, 0, 0, 0, 0, 0, 0, 0, 0, 0, 0, 0,\n",
       "       0, 1, 0, 1, 0, 1, 0, 0, 0, 1, 0, 0, 1, 0, 0, 0, 0, 0, 0, 1, 0, 0,\n",
       "       1, 0, 1, 0, 0, 1, 0, 0, 0, 0, 1, 0, 0, 0, 0, 0, 0, 0, 0, 0, 0, 0,\n",
       "       0, 0, 0, 0, 0, 1, 0, 1, 1, 0, 0, 0, 1, 0, 0, 0, 0, 0, 0, 1, 1, 1,\n",
       "       0, 1, 0, 0, 0, 1, 0, 0, 0, 0, 0, 0, 0, 0, 0, 0, 0, 0, 1, 0, 0, 0,\n",
       "       0, 0, 1, 1, 1, 1, 1, 0, 0, 0, 1], dtype=int64)"
      ]
     },
     "execution_count": 222,
     "metadata": {},
     "output_type": "execute_result"
    }
   ],
   "source": [
    "y_pred7 = forest_class.predict(x_test)\n",
    "y_pred7"
   ]
  },
  {
   "cell_type": "code",
   "execution_count": 223,
   "id": "ca76f239",
   "metadata": {},
   "outputs": [],
   "source": [
    "# using SHAP explainer to understand features that have more impact to our decision tree predictions\n",
    "explainer = shap.Explainer(tree_class)\n",
    "shap_values = explainer.shap_values(x_test)\n",
    "\n",
    "features_names = ['Pregnancies', 'Glucose', 'BloodPressure', 'SkinThickness', 'Insulin',\n",
    "       'BMI', 'DiabetesPedigreeFunction', 'Age']\n",
    "\n"
   ]
  },
  {
   "cell_type": "code",
   "execution_count": 224,
   "id": "ae34c4bb",
   "metadata": {},
   "outputs": [
    {
     "data": {
      "image/png": "[encoded data removed]",
      "text/plain": [
       "<Figure size 576x338.4 with 1 Axes>"
      ]
     },
     "metadata": {
      "needs_background": "light"
     },
     "output_type": "display_data"
    }
   ],
   "source": [
    "# give a summary of those features with impact\n",
    "summary_plot = shap.summary_plot(shap_values, x_train,feature_names= features_names,plot_type='bar')\n"
   ]
  },
  {
   "cell_type": "code",
   "execution_count": 225,
   "id": "44ae4ab8",
   "metadata": {},
   "outputs": [],
   "source": [
    "# using SHAP explainer to understand features that have more impact to our random forest predictions\n",
    "explainer2 = shap.Explainer(forest_class)\n",
    "shap_values2 = explainer2.shap_values(x_test)"
   ]
  },
  {
   "cell_type": "code",
   "execution_count": 226,
   "id": "2c759b02",
   "metadata": {},
   "outputs": [
    {
     "data": {
      "image/png": "[encoded data removed]",
      "text/plain": [
       "<Figure size 576x338.4 with 1 Axes>"
      ]
     },
     "metadata": {
      "needs_background": "light"
     },
     "output_type": "display_data"
    },
    {
     "data": {
      "text/plain": [
       "<Figure size 432x288 with 0 Axes>"
      ]
     },
     "metadata": {},
     "output_type": "display_data"
    }
   ],
   "source": [
    "# give a summary of those features with impact\n",
    "# visualize plot\n",
    "shap.summary_plot(shap_values2, x_test,feature_names= features_names, plot_type='bar')\n",
    "plt.savefig('forest_shap plot.png')"
   ]
  },
  {
   "cell_type": "code",
   "execution_count": 227,
   "id": "53e39c7e",
   "metadata": {},
   "outputs": [
    {
     "data": {
      "image/png": "[encoded data removed]",
      "text/plain": [
       "<Figure size 576x338.4 with 1 Axes>"
      ]
     },
     "metadata": {
      "needs_background": "light"
     },
     "output_type": "display_data"
    },
    {
     "data": {
      "text/plain": [
       "<Figure size 432x288 with 0 Axes>"
      ]
     },
     "metadata": {},
     "output_type": "display_data"
    }
   ],
   "source": [
    "# using shap decision plot to show the values of features with impact on decision tree predictions\n",
    "# visualize plot\n",
    "shap.decision_plot(explainer.expected_value[0], shap_values[0], feature_names= features_names)\n",
    "plt.savefig('decision_plot for 0.png')"
   ]
  },
  {
   "cell_type": "code",
   "execution_count": 228,
   "id": "69004ab1",
   "metadata": {},
   "outputs": [
    {
     "data": {
      "image/png": "[encoded data removed]",
      "text/plain": [
       "<Figure size 576x338.4 with 1 Axes>"
      ]
     },
     "metadata": {
      "needs_background": "light"
     },
     "output_type": "display_data"
    }
   ],
   "source": [
    "# using shap decision plot to show the values of features with impact on random forest predictions\n",
    "shap.decision_plot(explainer.expected_value[1], shap_values[1], feature_names= features_names)\n"
   ]
  },
  {
   "cell_type": "code",
   "execution_count": 229,
   "id": "4345b19c",
   "metadata": {},
   "outputs": [
    {
     "name": "stdout",
     "output_type": "stream",
     "text": [
      "[[136  21]\n",
      " [ 35  39]]\n"
     ]
    }
   ],
   "source": [
    "# Display confusion matrix from metrics class\n",
    "from sklearn.metrics import confusion_matrix\n",
    "cm_log = confusion_matrix(y_test, y_pred1)\n",
    "print (cm_log)"
   ]
  },
  {
   "cell_type": "code",
   "execution_count": 230,
   "id": "312372e8",
   "metadata": {},
   "outputs": [
    {
     "name": "stdout",
     "output_type": "stream",
     "text": [
      "[[130  27]\n",
      " [ 34  40]]\n"
     ]
    }
   ],
   "source": [
    "#Display confusion matrix from metrics class\n",
    "from sklearn.metrics import confusion_matrix\n",
    "cm_bayes = confusion_matrix(y_test, y_pred2)\n",
    "print (cm_bayes)"
   ]
  },
  {
   "cell_type": "code",
   "execution_count": 231,
   "id": "ee9d5d58",
   "metadata": {},
   "outputs": [
    {
     "name": "stdout",
     "output_type": "stream",
     "text": [
      "[[122  35]\n",
      " [ 37  37]]\n"
     ]
    }
   ],
   "source": [
    "#Display confusion matrix from metrics class\n",
    "from sklearn.metrics import confusion_matrix\n",
    "cm_sgdc = confusion_matrix(y_test, y_pred3)\n",
    "print (cm_sgdc)"
   ]
  },
  {
   "cell_type": "code",
   "execution_count": 232,
   "id": "1426dead",
   "metadata": {},
   "outputs": [
    {
     "name": "stdout",
     "output_type": "stream",
     "text": [
      "[[105  52]\n",
      " [ 31  43]]\n"
     ]
    }
   ],
   "source": [
    "#Display confusion matrix from metrics class\n",
    "from sklearn.metrics import confusion_matrix\n",
    "cm_tree = confusion_matrix(y_test, y_pred4)\n",
    "print (cm_tree)"
   ]
  },
  {
   "cell_type": "code",
   "execution_count": 233,
   "id": "6dc677e1",
   "metadata": {},
   "outputs": [
    {
     "name": "stdout",
     "output_type": "stream",
     "text": [
      "[[139  18]\n",
      " [ 36  38]]\n"
     ]
    }
   ],
   "source": [
    "#Display confusion matrix from metrics class\n",
    "from sklearn.metrics import confusion_matrix\n",
    "cm_svm = confusion_matrix(y_test, y_pred5)\n",
    "print (cm_svm)"
   ]
  },
  {
   "cell_type": "code",
   "execution_count": 234,
   "id": "14b33626",
   "metadata": {},
   "outputs": [
    {
     "name": "stdout",
     "output_type": "stream",
     "text": [
      "[[133  24]\n",
      " [ 29  45]]\n"
     ]
    }
   ],
   "source": [
    "#Display confusion matrix from metrics class\n",
    "from sklearn.metrics import confusion_matrix\n",
    "cm_knn = confusion_matrix(y_test, y_pred6)\n",
    "print (cm_knn)"
   ]
  },
  {
   "cell_type": "code",
   "execution_count": 235,
   "id": "5e9aaffe",
   "metadata": {
    "scrolled": true
   },
   "outputs": [
    {
     "name": "stdout",
     "output_type": "stream",
     "text": [
      "[[135  22]\n",
      " [ 33  41]]\n"
     ]
    }
   ],
   "source": [
    "#Display confusion matrix from metrics class\n",
    "from sklearn.metrics import confusion_matrix\n",
    "cm_forest = confusion_matrix(y_test, y_pred7)\n",
    "print (cm_forest)"
   ]
  },
  {
   "cell_type": "code",
   "execution_count": 236,
   "id": "bbe60e45",
   "metadata": {},
   "outputs": [
    {
     "name": "stdout",
     "output_type": "stream",
     "text": [
      "The model sensitivity is: 86.62420382165605\n"
     ]
    }
   ],
   "source": [
    "# Extracting the confusion matrix features and evaluating the sensitivity and specificity of logistic regression model\n",
    "\n",
    "cm_log_tp, cm_log_tn, cm_log_fp, cm_log_fn = cm_log.flatten()\n",
    "log_sensitivity = cm_log_tp / (cm_log_tp + cm_log_tn)\n",
    "log_specificity = cm_log_tn / (cm_log_tn + cm_log_fp)\n",
    "print ('The model sensitivity is:', log_sensitivity*100)\n"
   ]
  },
  {
   "cell_type": "code",
   "execution_count": 237,
   "id": "344f69d8",
   "metadata": {},
   "outputs": [
    {
     "name": "stdout",
     "output_type": "stream",
     "text": [
      "The model sensitivity is: 37.5\n"
     ]
    }
   ],
   "source": [
    "print ('The model sensitivity is:', log_specificity*100)"
   ]
  },
  {
   "cell_type": "code",
   "execution_count": 238,
   "id": "6e9b9f78",
   "metadata": {},
   "outputs": [
    {
     "name": "stdout",
     "output_type": "stream",
     "text": [
      "The model sensitivity is: 82.80254777070064\n"
     ]
    }
   ],
   "source": [
    "# Extracting the confusion matrix features and evaluating the sensitivity and specificity of Naive bayes model\n",
    "\n",
    "cm_bayes_tp, cm_bayes_tn, cm_bayes_fp, accu_bayes_fn = cm_bayes.flatten() #unwind features in confusion matrix\n",
    "bayes_sensitivity = cm_bayes_tp / (cm_bayes_tp + cm_bayes_tn)\n",
    "bayes_specificity = cm_bayes_tn / (cm_bayes_tn + cm_bayes_fp)\n",
    "print ('The model sensitivity is:', bayes_sensitivity*100)"
   ]
  },
  {
   "cell_type": "code",
   "execution_count": 239,
   "id": "fcbc19c0",
   "metadata": {},
   "outputs": [
    {
     "name": "stdout",
     "output_type": "stream",
     "text": [
      "The model sensitivity is: 44.26229508196721\n"
     ]
    }
   ],
   "source": [
    "print ('The model sensitivity is:', bayes_specificity*100)"
   ]
  },
  {
   "cell_type": "code",
   "execution_count": 240,
   "id": "df1ad410",
   "metadata": {},
   "outputs": [
    {
     "name": "stdout",
     "output_type": "stream",
     "text": [
      "The model sensitivity is: 77.70700636942675\n"
     ]
    }
   ],
   "source": [
    "# Extracting the confusion matrix features and evaluating the sensitivity and specificity of sgdc model\n",
    "cm_sgdc_tp, cm_sgdc_tn, cm_sgdc_fp, accu_sgdc_fn = cm_sgdc.flatten()  #unwind features in confusion matrix\n",
    "sgdc_sensitivity = cm_sgdc_tp / (cm_sgdc_tp + cm_sgdc_tn)\n",
    "sgdc_specificity = cm_sgdc_tn / (cm_sgdc_tn + cm_sgdc_fp)\n",
    "print ('The model sensitivity is:', sgdc_sensitivity*100)"
   ]
  },
  {
   "cell_type": "code",
   "execution_count": 241,
   "id": "d95f8bf0",
   "metadata": {
    "scrolled": true
   },
   "outputs": [
    {
     "name": "stdout",
     "output_type": "stream",
     "text": [
      "The model sensitivity is: 48.61111111111111\n"
     ]
    }
   ],
   "source": [
    "print ('The model sensitivity is:', sgdc_specificity*100)"
   ]
  },
  {
   "cell_type": "code",
   "execution_count": 242,
   "id": "f009b449",
   "metadata": {},
   "outputs": [
    {
     "name": "stdout",
     "output_type": "stream",
     "text": [
      "The model sensitivity is: 66.87898089171973\n"
     ]
    }
   ],
   "source": [
    "# Extracting the confusion matrix features and evaluating the sensitivity and specificity of decision tree model\n",
    "cm_tree_tp, cm_tree_tn, cm_tree_fp, accu_tree_fn = cm_tree.flatten()   #unwind features in confusion matrix\n",
    "tree_sensitivity = cm_tree_tp / (cm_tree_tp + cm_tree_tn)\n",
    "tree_specificity = cm_tree_tn / (cm_tree_tn + cm_tree_fp)\n",
    "print ('The model sensitivity is:', tree_sensitivity*100)"
   ]
  },
  {
   "cell_type": "code",
   "execution_count": 243,
   "id": "b6d4ac24",
   "metadata": {},
   "outputs": [
    {
     "name": "stdout",
     "output_type": "stream",
     "text": [
      "The model sensitivity is: 48.61111111111111\n"
     ]
    }
   ],
   "source": [
    "print ('The model sensitivity is:', sgdc_specificity*100)"
   ]
  },
  {
   "cell_type": "code",
   "execution_count": 244,
   "id": "56a1a918",
   "metadata": {},
   "outputs": [
    {
     "name": "stdout",
     "output_type": "stream",
     "text": [
      "The model sensitivity is: 88.53503184713377\n"
     ]
    }
   ],
   "source": [
    "# Extracting the confusion matrix features and evaluating the sensitivity and specificity of svm model\n",
    "cm_svm_tp, cm_svm_tn, cm_svm_fp, accu_svm_fn = cm_svm.flatten()       #unwind features in confusion matrix\n",
    "svm_sensitivity = cm_svm_tp / (cm_svm_tp + cm_svm_tn) \n",
    "svm_specificity = cm_svm_tn / (cm_svm_tn + cm_svm_fp)\n",
    "print ('The model sensitivity is:', svm_sensitivity*100)"
   ]
  },
  {
   "cell_type": "code",
   "execution_count": 245,
   "id": "b0b5307b",
   "metadata": {},
   "outputs": [
    {
     "name": "stdout",
     "output_type": "stream",
     "text": [
      "The model sensitivity is: 33.33333333333333\n"
     ]
    }
   ],
   "source": [
    "print ('The model sensitivity is:', svm_specificity*100)"
   ]
  },
  {
   "cell_type": "code",
   "execution_count": 246,
   "id": "79c68c16",
   "metadata": {},
   "outputs": [
    {
     "name": "stdout",
     "output_type": "stream",
     "text": [
      "The model sensitivity is: 85.98726114649682\n"
     ]
    }
   ],
   "source": [
    "# Extracting the confusion matrix features and evaluating the sensitivity and specificity of random forest model\n",
    "cm_forest_tp, cm_forest_tn, cm_forest_fp, accu_forest_fn = cm_forest.flatten()    #unwind features in confusion matrix\n",
    "forest_sensitivity = cm_forest_tp / (cm_forest_tp + cm_forest_tn)\n",
    "forest_specificity = cm_forest_tn / (cm_forest_tn + cm_forest_fp)\n",
    "print ('The model sensitivity is:', forest_sensitivity*100)"
   ]
  },
  {
   "cell_type": "code",
   "execution_count": 247,
   "id": "9abd064c",
   "metadata": {},
   "outputs": [
    {
     "name": "stdout",
     "output_type": "stream",
     "text": [
      "The model sensitivity is: 40.0\n"
     ]
    }
   ],
   "source": [
    "print ('The model sensitivity is:', forest_specificity*100)"
   ]
  },
  {
   "cell_type": "code",
   "execution_count": 248,
   "id": "b50afe1d",
   "metadata": {},
   "outputs": [
    {
     "name": "stdout",
     "output_type": "stream",
     "text": [
      "The model sensitivity is: 84.71337579617835\n"
     ]
    }
   ],
   "source": [
    "# Extracting the confusion matrix features and evaluating the sensitivity and specificity of KNN model\n",
    "cm_knn_tp, cm_knn_tn, cm_knn_fp, accu_knn_fn = cm_knn.flatten()          #unwind features in confusion matrix\n",
    "knn_sensitivity = cm_knn_tp / (cm_knn_tp + cm_knn_tn)\n",
    "knn_specificity = cm_knn_tn / (cm_knn_tn + cm_knn_fp)\n",
    "print ('The model sensitivity is:', knn_sensitivity*100)"
   ]
  },
  {
   "cell_type": "code",
   "execution_count": 249,
   "id": "3f0df997",
   "metadata": {},
   "outputs": [
    {
     "name": "stdout",
     "output_type": "stream",
     "text": [
      "The model sensitivity is: 45.28301886792453\n"
     ]
    }
   ],
   "source": [
    "print ('The model sensitivity is:', knn_specificity*100)"
   ]
  },
  {
   "cell_type": "code",
   "execution_count": 250,
   "id": "f981152f",
   "metadata": {},
   "outputs": [
    {
     "data": {
      "text/html": [
       "<div>\n",
       "<style scoped>\n",
       "    .dataframe tbody tr th:only-of-type {\n",
       "        vertical-align: middle;\n",
       "    }\n",
       "\n",
       "    .dataframe tbody tr th {\n",
       "        vertical-align: top;\n",
       "    }\n",
       "\n",
       "    .dataframe thead th {\n",
       "        text-align: right;\n",
       "    }\n",
       "</style>\n",
       "<table border=\"1\" class=\"dataframe\">\n",
       "  <thead>\n",
       "    <tr style=\"text-align: right;\">\n",
       "      <th></th>\n",
       "      <th>cm_log</th>\n",
       "      <th>cm_sgdc</th>\n",
       "      <th>cm_tree</th>\n",
       "      <th>cm_svm</th>\n",
       "      <th>cm_bayes</th>\n",
       "      <th>cm_knn</th>\n",
       "      <th>cm_forest</th>\n",
       "    </tr>\n",
       "  </thead>\n",
       "  <tbody>\n",
       "    <tr>\n",
       "      <th>model_sensitivity</th>\n",
       "      <td>86.624204</td>\n",
       "      <td>77.707006</td>\n",
       "      <td>66.878981</td>\n",
       "      <td>88.535032</td>\n",
       "      <td>82.802548</td>\n",
       "      <td>84.713376</td>\n",
       "      <td>85.987261</td>\n",
       "    </tr>\n",
       "    <tr>\n",
       "      <th>model_specificity</th>\n",
       "      <td>37.500000</td>\n",
       "      <td>48.611111</td>\n",
       "      <td>62.650602</td>\n",
       "      <td>33.333333</td>\n",
       "      <td>44.262295</td>\n",
       "      <td>45.283019</td>\n",
       "      <td>40.000000</td>\n",
       "    </tr>\n",
       "  </tbody>\n",
       "</table>\n",
       "</div>"
      ],
      "text/plain": [
       "                      cm_log    cm_sgdc    cm_tree     cm_svm   cm_bayes  \\\n",
       "model_sensitivity  86.624204  77.707006  66.878981  88.535032  82.802548   \n",
       "model_specificity  37.500000  48.611111  62.650602  33.333333  44.262295   \n",
       "\n",
       "                      cm_knn  cm_forest  \n",
       "model_sensitivity  84.713376  85.987261  \n",
       "model_specificity  45.283019  40.000000  "
      ]
     },
     "execution_count": 250,
     "metadata": {},
     "output_type": "execute_result"
    }
   ],
   "source": [
    "cm_sensitivity = {'cm_log': log_sensitivity, 'cm_sgdc':sgdc_sensitivity, 'cm_tree':tree_sensitivity, 'cm_svm': svm_sensitivity, 'cm_bayes': bayes_sensitivity, 'cm_knn':knn_sensitivity, 'cm_forest':forest_sensitivity}\n",
    "cm_specificity = {'cm_log': log_specificity, 'cm_sgdc':sgdc_specificity, 'cm_tree':tree_specificity, 'cm_svm': svm_specificity, 'cm_bayes': bayes_specificity, 'cm_knn':knn_specificity, 'cm_forest':forest_specificity}\n",
    "cm_df = pd.DataFrame(data=[cm_sensitivity, cm_specificity], index=['model_sensitivity', 'model_specificity'])\n",
    "cm_df = cm_df*100\n",
    "cm_df"
   ]
  },
  {
   "cell_type": "code",
   "execution_count": 251,
   "id": "3728bcb2",
   "metadata": {},
   "outputs": [
    {
     "data": {
      "text/plain": [
       "0.7575757575757576"
      ]
     },
     "execution_count": 251,
     "metadata": {},
     "output_type": "execute_result"
    }
   ],
   "source": [
    "# get the accuracy score\n",
    "from sklearn.metrics import accuracy_score\n",
    "accu_log = accuracy_score(y_test, y_pred1)\n",
    "accu_log"
   ]
  },
  {
   "cell_type": "code",
   "execution_count": 252,
   "id": "932593bb",
   "metadata": {},
   "outputs": [
    {
     "data": {
      "text/plain": [
       "0.7359307359307359"
      ]
     },
     "execution_count": 252,
     "metadata": {},
     "output_type": "execute_result"
    }
   ],
   "source": [
    "# get the accuracy score\n",
    "from sklearn.metrics import accuracy_score\n",
    "accu_bayes = accuracy_score(y_test, y_pred2)\n",
    "accu_bayes"
   ]
  },
  {
   "cell_type": "code",
   "execution_count": 253,
   "id": "683f8248",
   "metadata": {},
   "outputs": [
    {
     "data": {
      "text/plain": [
       "0.6883116883116883"
      ]
     },
     "execution_count": 253,
     "metadata": {},
     "output_type": "execute_result"
    }
   ],
   "source": [
    "# get the accuracy score\n",
    "from sklearn.metrics import accuracy_score\n",
    "accu_sgdc = accuracy_score(y_test, y_pred3)\n",
    "accu_sgdc"
   ]
  },
  {
   "cell_type": "code",
   "execution_count": 254,
   "id": "c2bd36fc",
   "metadata": {},
   "outputs": [
    {
     "data": {
      "text/plain": [
       "0.6406926406926406"
      ]
     },
     "execution_count": 254,
     "metadata": {},
     "output_type": "execute_result"
    }
   ],
   "source": [
    "# get the accuracy score\n",
    "from sklearn.metrics import accuracy_score\n",
    "accu_tree = accuracy_score(y_test, y_pred4)\n",
    "accu_tree"
   ]
  },
  {
   "cell_type": "code",
   "execution_count": 255,
   "id": "59da693f",
   "metadata": {},
   "outputs": [
    {
     "data": {
      "text/plain": [
       "0.7662337662337663"
      ]
     },
     "execution_count": 255,
     "metadata": {},
     "output_type": "execute_result"
    }
   ],
   "source": [
    "# get the accuracy score\n",
    "from sklearn.metrics import accuracy_score\n",
    "accu_svm = accuracy_score(y_test, y_pred5)\n",
    "accu_svm"
   ]
  },
  {
   "cell_type": "code",
   "execution_count": 256,
   "id": "d50c2822",
   "metadata": {},
   "outputs": [
    {
     "data": {
      "text/plain": [
       "0.7705627705627706"
      ]
     },
     "execution_count": 256,
     "metadata": {},
     "output_type": "execute_result"
    }
   ],
   "source": [
    "# get the accuracy score\n",
    "from sklearn.metrics import accuracy_score\n",
    "accu_knn = accuracy_score(y_test, y_pred6)\n",
    "accu_knn"
   ]
  },
  {
   "cell_type": "code",
   "execution_count": 257,
   "id": "b623c812",
   "metadata": {},
   "outputs": [
    {
     "data": {
      "text/plain": [
       "0.7619047619047619"
      ]
     },
     "execution_count": 257,
     "metadata": {},
     "output_type": "execute_result"
    }
   ],
   "source": [
    "# get the accuracy score\n",
    "from sklearn.metrics import accuracy_score\n",
    "accu_forest = accuracy_score(y_test, y_pred7)\n",
    "accu_forest"
   ]
  },
  {
   "cell_type": "code",
   "execution_count": 258,
   "id": "109d9676",
   "metadata": {},
   "outputs": [
    {
     "data": {
      "image/png": "[encoded data removed]",
      "text/plain": [
       "<Figure size 864x576 with 1 Axes>"
      ]
     },
     "metadata": {
      "needs_background": "light"
     },
     "output_type": "display_data"
    }
   ],
   "source": [
    "accuracy = ['accu_log', 'accu_bayes', 'accu_sgdc','accu_tree', 'accu_svm', 'accu_knn', 'accu_forest'] # creating variable names\n",
    "accu_values = [accu_log, accu_bayes, accu_sgdc, accu_tree, accu_svm, accu_knn, accu_forest]\n",
    "\n",
    "accu_metric = np.arange(len(accuracy))\n",
    "plt.figure (figsize=(12,8))    # create figure \n",
    "plt.xticks(accu_metric, accuracy)\n",
    "barlist = plt.bar(accu_metric,accu_values) # plot values\n",
    "barlist[0].set_color('g')\n",
    "barlist[1].set_color('r')\n",
    "barlist[2].set_color('y')\n",
    "barlist[3].set_color('b')\n",
    "barlist[4].set_color('c')\n",
    "barlist[5].set_color('m')\n",
    "barlist[6].set_color('k')  \n",
    "\n",
    "#display plot\n",
    "plt.show()"
   ]
  },
  {
   "cell_type": "code",
   "execution_count": 259,
   "id": "2e513cbf",
   "metadata": {},
   "outputs": [
    {
     "data": {
      "text/plain": [
       "0.527027027027027"
      ]
     },
     "execution_count": 259,
     "metadata": {},
     "output_type": "execute_result"
    }
   ],
   "source": [
    "# get recall score\n",
    "from sklearn.metrics import recall_score\n",
    "recall_log = recall_score(y_test, y_pred1)\n",
    "recall_log"
   ]
  },
  {
   "cell_type": "code",
   "execution_count": 260,
   "id": "502705b8",
   "metadata": {},
   "outputs": [
    {
     "data": {
      "text/plain": [
       "0.5405405405405406"
      ]
     },
     "execution_count": 260,
     "metadata": {},
     "output_type": "execute_result"
    }
   ],
   "source": [
    "# get recall score\n",
    "from sklearn.metrics import recall_score\n",
    "recall_bayes = recall_score(y_test, y_pred2)\n",
    "recall_bayes"
   ]
  },
  {
   "cell_type": "code",
   "execution_count": 261,
   "id": "2531f8b6",
   "metadata": {},
   "outputs": [
    {
     "data": {
      "text/plain": [
       "0.5"
      ]
     },
     "execution_count": 261,
     "metadata": {},
     "output_type": "execute_result"
    }
   ],
   "source": [
    "# get recall score\n",
    "from sklearn.metrics import recall_score\n",
    "recall_sgdc = recall_score(y_test, y_pred3)\n",
    "recall_sgdc"
   ]
  },
  {
   "cell_type": "code",
   "execution_count": 262,
   "id": "8764459a",
   "metadata": {},
   "outputs": [
    {
     "data": {
      "text/plain": [
       "0.581081081081081"
      ]
     },
     "execution_count": 262,
     "metadata": {},
     "output_type": "execute_result"
    }
   ],
   "source": [
    "# get recall score\n",
    "from sklearn.metrics import recall_score\n",
    "recall_tree = recall_score(y_test, y_pred4)\n",
    "recall_tree"
   ]
  },
  {
   "cell_type": "code",
   "execution_count": 263,
   "id": "77430a0c",
   "metadata": {},
   "outputs": [
    {
     "data": {
      "text/plain": [
       "0.5135135135135135"
      ]
     },
     "execution_count": 263,
     "metadata": {},
     "output_type": "execute_result"
    }
   ],
   "source": [
    "# get recall score\n",
    "from sklearn.metrics import recall_score\n",
    "recall_svm = recall_score(y_test, y_pred5)\n",
    "recall_svm"
   ]
  },
  {
   "cell_type": "code",
   "execution_count": 264,
   "id": "bd063268",
   "metadata": {},
   "outputs": [
    {
     "data": {
      "text/plain": [
       "0.6081081081081081"
      ]
     },
     "execution_count": 264,
     "metadata": {},
     "output_type": "execute_result"
    }
   ],
   "source": [
    "# get recall score\n",
    "from sklearn.metrics import recall_score\n",
    "recall_knn = recall_score(y_test, y_pred6)\n",
    "recall_knn"
   ]
  },
  {
   "cell_type": "code",
   "execution_count": 265,
   "id": "4a4366e2",
   "metadata": {},
   "outputs": [
    {
     "data": {
      "text/plain": [
       "0.5540540540540541"
      ]
     },
     "execution_count": 265,
     "metadata": {},
     "output_type": "execute_result"
    }
   ],
   "source": [
    "# get recall score\n",
    "from sklearn.metrics import recall_score\n",
    "recall_forest = recall_score(y_test, y_pred7)\n",
    "recall_forest"
   ]
  },
  {
   "cell_type": "code",
   "execution_count": 266,
   "id": "5f30908a",
   "metadata": {},
   "outputs": [
    {
     "data": {
      "image/png": "[encoded data removed]",
      "text/plain": [
       "<Figure size 864x576 with 1 Axes>"
      ]
     },
     "metadata": {
      "needs_background": "light"
     },
     "output_type": "display_data"
    }
   ],
   "source": [
    "recall = ['recall_log', 'recall_bayes', 'recall_sgdc','recall_tree', 'recall_svm', 'recall_knn', 'recall_forest'] # create variable names\n",
    "recall_values = [recall_log, recall_bayes, recall_sgdc, recall_tree, recall_svm, recall_knn, recall_forest]\n",
    "\n",
    "recall_metric = np.arange(len(recall))\n",
    "\n",
    "plt.figure (figsize=(12,8))   # plot figure size\n",
    "plt.xticks(recall_metric, recall)\n",
    "barlist = plt.bar(recall_metric, recall_values) # plot figure\n",
    "barlist[0].set_color('g')\n",
    "barlist[1].set_color('r')\n",
    "barlist[2].set_color('y')\n",
    "barlist[3].set_color('b')\n",
    "barlist[4].set_color('c')\n",
    "barlist[5].set_color('m')\n",
    "barlist[6].set_color('k')  "
   ]
  },
  {
   "cell_type": "code",
   "execution_count": 267,
   "id": "1ad56d27",
   "metadata": {},
   "outputs": [
    {
     "data": {
      "text/plain": [
       "0.65"
      ]
     },
     "execution_count": 267,
     "metadata": {},
     "output_type": "execute_result"
    }
   ],
   "source": [
    "#get precision score\n",
    "from sklearn.metrics import precision_score\n",
    "precision_log = precision_score(y_test, y_pred1)\n",
    "precision_log"
   ]
  },
  {
   "cell_type": "code",
   "execution_count": 268,
   "id": "d3948e3a",
   "metadata": {},
   "outputs": [
    {
     "data": {
      "text/plain": [
       "0.5970149253731343"
      ]
     },
     "execution_count": 268,
     "metadata": {},
     "output_type": "execute_result"
    }
   ],
   "source": [
    "#get precison score\n",
    "from sklearn.metrics import precision_score\n",
    "precision_bayes = precision_score(y_test, y_pred2)\n",
    "precision_bayes"
   ]
  },
  {
   "cell_type": "code",
   "execution_count": 269,
   "id": "c3e7971b",
   "metadata": {},
   "outputs": [
    {
     "data": {
      "text/plain": [
       "0.5138888888888888"
      ]
     },
     "execution_count": 269,
     "metadata": {},
     "output_type": "execute_result"
    }
   ],
   "source": [
    "#get precison score\n",
    "from sklearn.metrics import precision_score\n",
    "precision_sgdc = precision_score(y_test, y_pred3)\n",
    "precision_sgdc"
   ]
  },
  {
   "cell_type": "code",
   "execution_count": 270,
   "id": "8baebf36",
   "metadata": {},
   "outputs": [
    {
     "data": {
      "text/plain": [
       "0.45263157894736844"
      ]
     },
     "execution_count": 270,
     "metadata": {},
     "output_type": "execute_result"
    }
   ],
   "source": [
    "#get precison score\n",
    "from sklearn.metrics import precision_score\n",
    "precision_tree = precision_score(y_test, y_pred4)\n",
    "precision_tree"
   ]
  },
  {
   "cell_type": "code",
   "execution_count": 271,
   "id": "8b68be4c",
   "metadata": {},
   "outputs": [
    {
     "data": {
      "text/plain": [
       "0.6785714285714286"
      ]
     },
     "execution_count": 271,
     "metadata": {},
     "output_type": "execute_result"
    }
   ],
   "source": [
    "#get precison score\n",
    "from sklearn.metrics import precision_score\n",
    "precision_svm = precision_score(y_test, y_pred5)\n",
    "precision_svm"
   ]
  },
  {
   "cell_type": "code",
   "execution_count": 272,
   "id": "d2346e3b",
   "metadata": {},
   "outputs": [
    {
     "data": {
      "text/plain": [
       "0.6521739130434783"
      ]
     },
     "execution_count": 272,
     "metadata": {},
     "output_type": "execute_result"
    }
   ],
   "source": [
    "#get precison score\n",
    "from sklearn.metrics import precision_score\n",
    "precision_knn = precision_score(y_test, y_pred6)\n",
    "precision_knn"
   ]
  },
  {
   "cell_type": "code",
   "execution_count": 273,
   "id": "70ae5107",
   "metadata": {},
   "outputs": [
    {
     "data": {
      "text/plain": [
       "0.6507936507936508"
      ]
     },
     "execution_count": 273,
     "metadata": {},
     "output_type": "execute_result"
    }
   ],
   "source": [
    "#get precison score\n",
    "from sklearn.metrics import precision_score\n",
    "precision_forest = precision_score(y_test, y_pred7)\n",
    "precision_forest"
   ]
  },
  {
   "cell_type": "code",
   "execution_count": 274,
   "id": "2424dd24",
   "metadata": {},
   "outputs": [
    {
     "data": {
      "image/png": "[encoded data removed]",
      "text/plain": [
       "<Figure size 864x576 with 1 Axes>"
      ]
     },
     "metadata": {
      "needs_background": "light"
     },
     "output_type": "display_data"
    }
   ],
   "source": [
    "precision = ['precision_log', 'precision_bayes', 'precision_sgdc','precision_tree', 'precision_svm', 'precision_knn', 'precision_forest'] # create variable names\n",
    "precision_values = [precision_log, precision_bayes, precision_sgdc, precision_tree, precision_svm, precision_knn, precision_forest]\n",
    "\n",
    "precision_metric = np.arange(len(precision))\n",
    "\n",
    "plt.figure (figsize=(12,8))   # create figure size\n",
    "plt.xticks(precision_metric, precision)\n",
    "barlist = plt.bar(precision_metric, precision_values) # plot figure\n",
    "barlist[0].set_color('g')\n",
    "barlist[1].set_color('r')\n",
    "barlist[2].set_color('y')\n",
    "barlist[3].set_color('b')\n",
    "barlist[4].set_color('c')\n",
    "barlist[5].set_color('m')\n",
    "barlist[6].set_color('k')  "
   ]
  },
  {
   "cell_type": "code",
   "execution_count": 275,
   "id": "46880563",
   "metadata": {},
   "outputs": [
    {
     "data": {
      "text/plain": [
       "0.5820895522388059"
      ]
     },
     "execution_count": 275,
     "metadata": {},
     "output_type": "execute_result"
    }
   ],
   "source": [
    "#get f1-score\n",
    "from sklearn.metrics import f1_score\n",
    "f1_log = f1_score(y_test, y_pred1)\n",
    "f1_log"
   ]
  },
  {
   "cell_type": "code",
   "execution_count": 276,
   "id": "49ed0fd9",
   "metadata": {},
   "outputs": [
    {
     "data": {
      "text/plain": [
       "0.5673758865248227"
      ]
     },
     "execution_count": 276,
     "metadata": {},
     "output_type": "execute_result"
    }
   ],
   "source": [
    "#get f1-score\n",
    "from sklearn.metrics import f1_score\n",
    "f1_bayes = f1_score(y_test, y_pred2)\n",
    "f1_bayes"
   ]
  },
  {
   "cell_type": "code",
   "execution_count": 277,
   "id": "3c076305",
   "metadata": {},
   "outputs": [
    {
     "data": {
      "text/plain": [
       "0.5068493150684932"
      ]
     },
     "execution_count": 277,
     "metadata": {},
     "output_type": "execute_result"
    }
   ],
   "source": [
    "#get f1-score\n",
    "from sklearn.metrics import f1_score\n",
    "f1_sgdc = f1_score(y_test, y_pred3)\n",
    "f1_sgdc"
   ]
  },
  {
   "cell_type": "code",
   "execution_count": 278,
   "id": "53438dac",
   "metadata": {},
   "outputs": [
    {
     "data": {
      "text/plain": [
       "0.5088757396449705"
      ]
     },
     "execution_count": 278,
     "metadata": {},
     "output_type": "execute_result"
    }
   ],
   "source": [
    "#get f1-score\n",
    "from sklearn.metrics import f1_score\n",
    "f1_tree = f1_score(y_test, y_pred4)\n",
    "f1_tree"
   ]
  },
  {
   "cell_type": "code",
   "execution_count": 279,
   "id": "fce4c5b4",
   "metadata": {},
   "outputs": [
    {
     "data": {
      "text/plain": [
       "0.5846153846153848"
      ]
     },
     "execution_count": 279,
     "metadata": {},
     "output_type": "execute_result"
    }
   ],
   "source": [
    "#get f1-score\n",
    "from sklearn.metrics import f1_score\n",
    "f1_svm = f1_score(y_test, y_pred5)\n",
    "f1_svm"
   ]
  },
  {
   "cell_type": "code",
   "execution_count": 280,
   "id": "dbe8953c",
   "metadata": {},
   "outputs": [
    {
     "data": {
      "text/plain": [
       "0.6293706293706294"
      ]
     },
     "execution_count": 280,
     "metadata": {},
     "output_type": "execute_result"
    }
   ],
   "source": [
    "#get f1-score\n",
    "from sklearn.metrics import f1_score\n",
    "f1_knn = f1_score(y_test, y_pred6)\n",
    "f1_knn"
   ]
  },
  {
   "cell_type": "code",
   "execution_count": 281,
   "id": "f9d4b273",
   "metadata": {},
   "outputs": [
    {
     "data": {
      "text/plain": [
       "0.5985401459854015"
      ]
     },
     "execution_count": 281,
     "metadata": {},
     "output_type": "execute_result"
    }
   ],
   "source": [
    "#get f1-score\n",
    "from sklearn.metrics import f1_score\n",
    "f1_forest = f1_score(y_test, y_pred7)\n",
    "f1_forest"
   ]
  },
  {
   "cell_type": "code",
   "execution_count": 282,
   "id": "0240026a",
   "metadata": {},
   "outputs": [
    {
     "data": {
      "image/png": "[encoded data removed]",
      "text/plain": [
       "<Figure size 864x576 with 1 Axes>"
      ]
     },
     "metadata": {
      "needs_background": "light"
     },
     "output_type": "display_data"
    }
   ],
   "source": [
    "f1_scores = ['f1_log', 'f1_bayes', 'f1_sgdc','f1_tree', 'f1_svm', 'f1_knn', 'f1_forest'] #create variable names\n",
    "f1_values = [f1_log, f1_bayes, f1_sgdc, f1_tree, f1_svm, f1_knn, f1_forest]\n",
    "\n",
    "f1_metric = np.arange(len(f1_scores))\n",
    "plt.figure (figsize=(12,8))            # plot figure size\n",
    "plt.xticks(f1_metric, f1_scores)\n",
    "barlist = plt.bar(f1_metric, f1_values) #plot figure\n",
    "barlist[0].set_color('g')\n",
    "barlist[1].set_color('r')\n",
    "barlist[2].set_color('y')\n",
    "barlist[3].set_color('b')\n",
    "barlist[4].set_color('c')\n",
    "barlist[5].set_color('m')\n",
    "barlist[6].set_color('k')  \n",
    "\n",
    "#display plot\n",
    "plt.show()"
   ]
  },
  {
   "cell_type": "code",
   "execution_count": 283,
   "id": "a0fdceef",
   "metadata": {},
   "outputs": [
    {
     "data": {
      "text/plain": [
       "0.6966345326217938"
      ]
     },
     "execution_count": 283,
     "metadata": {},
     "output_type": "execute_result"
    }
   ],
   "source": [
    "# get auc score\n",
    "from sklearn.metrics import roc_auc_score\n",
    "auc_log = roc_auc_score(y_test, y_pred1)\n",
    "auc_log"
   ]
  },
  {
   "cell_type": "code",
   "execution_count": 284,
   "id": "1c4928dc",
   "metadata": {},
   "outputs": [
    {
     "data": {
      "text/plain": [
       "0.6842830091237735"
      ]
     },
     "execution_count": 284,
     "metadata": {},
     "output_type": "execute_result"
    }
   ],
   "source": [
    "# get auc score\n",
    "from sklearn.metrics import roc_auc_score\n",
    "auc_bayes = roc_auc_score(y_test, y_pred2)\n",
    "auc_bayes"
   ]
  },
  {
   "cell_type": "code",
   "execution_count": 285,
   "id": "077712aa",
   "metadata": {},
   "outputs": [
    {
     "data": {
      "text/plain": [
       "0.6385350318471338"
      ]
     },
     "execution_count": 285,
     "metadata": {},
     "output_type": "execute_result"
    }
   ],
   "source": [
    "# get auc score\n",
    "from sklearn.metrics import roc_auc_score\n",
    "auc_sgdc = roc_auc_score(y_test, y_pred3)\n",
    "auc_sgdc"
   ]
  },
  {
   "cell_type": "code",
   "execution_count": 286,
   "id": "9dd04e14",
   "metadata": {},
   "outputs": [
    {
     "data": {
      "text/plain": [
       "0.6249354449991393"
      ]
     },
     "execution_count": 286,
     "metadata": {},
     "output_type": "execute_result"
    }
   ],
   "source": [
    "# get auc score\n",
    "from sklearn.metrics import roc_auc_score\n",
    "auc_tree = roc_auc_score(y_test, y_pred4)\n",
    "auc_tree"
   ]
  },
  {
   "cell_type": "code",
   "execution_count": 287,
   "id": "33bf307f",
   "metadata": {},
   "outputs": [
    {
     "data": {
      "text/plain": [
       "0.6994319159924256"
      ]
     },
     "execution_count": 287,
     "metadata": {},
     "output_type": "execute_result"
    }
   ],
   "source": [
    "# get auc score\n",
    "from sklearn.metrics import roc_auc_score\n",
    "auc_svm = roc_auc_score(y_test, y_pred5)\n",
    "auc_svm"
   ]
  },
  {
   "cell_type": "code",
   "execution_count": 288,
   "id": "cc14bbe1",
   "metadata": {},
   "outputs": [
    {
     "data": {
      "text/plain": [
       "0.7276209330349458"
      ]
     },
     "execution_count": 288,
     "metadata": {},
     "output_type": "execute_result"
    }
   ],
   "source": [
    "# get auc score\n",
    "from sklearn.metrics import roc_auc_score\n",
    "auc_knn = roc_auc_score(y_test, y_pred6)\n",
    "auc_knn"
   ]
  },
  {
   "cell_type": "code",
   "execution_count": 289,
   "id": "47565138",
   "metadata": {},
   "outputs": [
    {
     "data": {
      "text/plain": [
       "0.7069633327595111"
      ]
     },
     "execution_count": 289,
     "metadata": {},
     "output_type": "execute_result"
    }
   ],
   "source": [
    "# get auc score\n",
    "from sklearn.metrics import roc_auc_score\n",
    "auc_forest = roc_auc_score(y_test, y_pred7)\n",
    "auc_forest"
   ]
  },
  {
   "cell_type": "code",
   "execution_count": 290,
   "id": "668844c5",
   "metadata": {},
   "outputs": [
    {
     "data": {
      "image/png": "[encoded data removed]",
      "text/plain": [
       "<Figure size 864x576 with 1 Axes>"
      ]
     },
     "metadata": {
      "needs_background": "light"
     },
     "output_type": "display_data"
    }
   ],
   "source": [
    "auc_scores = ['auc_log', 'auc_bayes', 'auc_sgdc','auc_tree', 'auc_svm', 'auc_knn', 'auc_forest'] # create variable names\n",
    "auc_values = [auc_log, auc_bayes, auc_sgdc, auc_tree, auc_svm, auc_knn, auc_forest]\n",
    "\n",
    "auc_metric = np.arange(len(auc_scores))\n",
    "\n",
    "plt.figure (figsize=(12,8))   # plot figure sze\n",
    "plt.xticks(auc_metric, auc_scores)\n",
    "barlist = plt.bar(auc_metric, auc_values) # plot figure\n",
    "barlist[0].set_color('g')\n",
    "barlist[1].set_color('r')\n",
    "barlist[2].set_color('y')\n",
    "barlist[3].set_color('b')\n",
    "barlist[4].set_color('c')\n",
    "barlist[5].set_color('m')\n",
    "barlist[6].set_color('k')  \n",
    "\n",
    "#display plot\n",
    "plt.show()"
   ]
  },
  {
   "cell_type": "code",
   "execution_count": 291,
   "id": "314c1820",
   "metadata": {},
   "outputs": [
    {
     "data": {
      "text/html": [
       "<div>\n",
       "<style scoped>\n",
       "    .dataframe tbody tr th:only-of-type {\n",
       "        vertical-align: middle;\n",
       "    }\n",
       "\n",
       "    .dataframe tbody tr th {\n",
       "        vertical-align: top;\n",
       "    }\n",
       "\n",
       "    .dataframe thead th {\n",
       "        text-align: right;\n",
       "    }\n",
       "</style>\n",
       "<table border=\"1\" class=\"dataframe\">\n",
       "  <thead>\n",
       "    <tr style=\"text-align: right;\">\n",
       "      <th></th>\n",
       "      <th>accuracy_score</th>\n",
       "      <th>recall</th>\n",
       "      <th>precision</th>\n",
       "      <th>f1_score</th>\n",
       "      <th>roc_auc</th>\n",
       "    </tr>\n",
       "  </thead>\n",
       "  <tbody>\n",
       "    <tr>\n",
       "      <th>log_regres</th>\n",
       "      <td>75.757576</td>\n",
       "      <td>52.702703</td>\n",
       "      <td>65.000000</td>\n",
       "      <td>58.208955</td>\n",
       "      <td>69.663453</td>\n",
       "    </tr>\n",
       "    <tr>\n",
       "      <th>naive_bayes</th>\n",
       "      <td>73.593074</td>\n",
       "      <td>54.054054</td>\n",
       "      <td>59.701493</td>\n",
       "      <td>56.737589</td>\n",
       "      <td>68.428301</td>\n",
       "    </tr>\n",
       "    <tr>\n",
       "      <th>sgdc</th>\n",
       "      <td>68.831169</td>\n",
       "      <td>50.000000</td>\n",
       "      <td>51.388889</td>\n",
       "      <td>50.684932</td>\n",
       "      <td>63.853503</td>\n",
       "    </tr>\n",
       "    <tr>\n",
       "      <th>tree</th>\n",
       "      <td>64.069264</td>\n",
       "      <td>58.108108</td>\n",
       "      <td>45.263158</td>\n",
       "      <td>50.887574</td>\n",
       "      <td>62.493544</td>\n",
       "    </tr>\n",
       "    <tr>\n",
       "      <th>svm</th>\n",
       "      <td>76.623377</td>\n",
       "      <td>51.351351</td>\n",
       "      <td>67.857143</td>\n",
       "      <td>58.461538</td>\n",
       "      <td>69.943192</td>\n",
       "    </tr>\n",
       "    <tr>\n",
       "      <th>knn</th>\n",
       "      <td>77.056277</td>\n",
       "      <td>60.810811</td>\n",
       "      <td>65.217391</td>\n",
       "      <td>62.937063</td>\n",
       "      <td>72.762093</td>\n",
       "    </tr>\n",
       "    <tr>\n",
       "      <th>forest</th>\n",
       "      <td>76.190476</td>\n",
       "      <td>55.405405</td>\n",
       "      <td>65.079365</td>\n",
       "      <td>59.854015</td>\n",
       "      <td>70.696333</td>\n",
       "    </tr>\n",
       "  </tbody>\n",
       "</table>\n",
       "</div>"
      ],
      "text/plain": [
       "             accuracy_score     recall  precision   f1_score    roc_auc\n",
       "log_regres        75.757576  52.702703  65.000000  58.208955  69.663453\n",
       "naive_bayes       73.593074  54.054054  59.701493  56.737589  68.428301\n",
       "sgdc              68.831169  50.000000  51.388889  50.684932  63.853503\n",
       "tree              64.069264  58.108108  45.263158  50.887574  62.493544\n",
       "svm               76.623377  51.351351  67.857143  58.461538  69.943192\n",
       "knn               77.056277  60.810811  65.217391  62.937063  72.762093\n",
       "forest            76.190476  55.405405  65.079365  59.854015  70.696333"
      ]
     },
     "execution_count": 291,
     "metadata": {},
     "output_type": "execute_result"
    }
   ],
   "source": [
    "# craete a dataframe of various evaluation metrics outcome for a better visualization\n",
    "data = {'accuracy_score': accu_values, 'recall':recall_values, 'precision':precision_values, 'f1_score': f1_values, 'roc_auc': auc_values}\n",
    "metrics = pd.DataFrame(data=data, index=['log_regres','naive_bayes','sgdc','tree','svm','knn','forest'])\n",
    "metrics = metrics*100\n",
    "metrics  #call variable"
   ]
  },
  {
   "cell_type": "code",
   "execution_count": 292,
   "id": "3a880084",
   "metadata": {},
   "outputs": [
    {
     "data": {
      "image/png": "[encoded data removed]",
      "text/plain": [
       "<Figure size 864x576 with 1 Axes>"
      ]
     },
     "metadata": {
      "needs_background": "light"
     },
     "output_type": "display_data"
    }
   ],
   "source": [
    "model = ['log_regre', 'naive_bayes', 'sgdc','tree', 'svm', 'knn', 'forest'] # create variable names\n",
    "\n",
    "# asssign metric values into a new variable\n",
    "accu_values = [accu_log, accu_bayes, accu_sgdc, accu_tree, accu_svm, accu_knn, accu_forest]\n",
    "recall_values = [recall_log, recall_bayes, recall_sgdc, recall_tree, recall_svm, recall_knn, recall_forest]\n",
    "precision_values = [precision_log, precision_bayes, precision_sgdc, precision_tree, precision_svm, precision_knn, precision_forest]\n",
    "f1_values = [f1_log, f1_bayes, f1_sgdc, f1_tree, f1_svm, f1_knn, f1_forest]\n",
    "auc_values = [auc_log, auc_bayes, auc_sgdc, auc_tree, auc_svm, auc_knn, auc_forest]\n",
    "\n",
    "\n",
    "model_metric = np.arange(len(model))\n",
    "\n",
    "plt.figure(figsize=(12,8))  # plot figure size\n",
    "plt.xticks(model_metric, model)\n",
    "\n",
    "# plot figure\n",
    "barlist = plt.bar(model_metric+0.2, accu_values, width=0.2, label= 'Accu_values')\n",
    "barlist = plt.bar(model_metric, recall_values, width=0.2, label= 'Recall_values')\n",
    "barlist = plt.bar(model_metric+0.4, precision_values, width=0.2, label= 'Precision_values')\n",
    "barlist = plt.bar(model_metric-0.2, f1_values, width=0.2, label= 'F1_values')\n",
    "barlist = plt.bar(model_metric+0.5, auc_values, width=0.2, label= 'Auc_values')\n",
    "\n",
    "plt.title('bar charts showing the performance of different algorithms')\n",
    "plt.ylabel('metrics')\n",
    "\n",
    "\n",
    "\n",
    "\n",
    "plt.legend()\n",
    "plt.savefig('metrics bar charts.jpeg')"
   ]
  },
  {
   "cell_type": "code",
   "execution_count": 293,
   "id": "095b8188",
   "metadata": {},
   "outputs": [],
   "source": [
    "# create dependent and independent variable for next five years, assuming other features are constant\n",
    "x5 = df.drop(columns=['Outcome','Age']).values\n",
    "y5 = df.iloc[:, 8].values"
   ]
  },
  {
   "cell_type": "code",
   "execution_count": 294,
   "id": "c07b27ff",
   "metadata": {},
   "outputs": [],
   "source": [
    "#split data to test and train \n",
    "from sklearn.model_selection import train_test_split\n",
    "x5_train, x5_test, y5_train, y5_test  = train_test_split (x5, y5, random_state=0, test_size=0.3)"
   ]
  },
  {
   "cell_type": "code",
   "execution_count": 295,
   "id": "2f9ea133",
   "metadata": {},
   "outputs": [],
   "source": [
    "# feature scaling of features to normalized the data\n",
    "from sklearn.preprocessing import StandardScaler\n",
    "ss = StandardScaler()\n",
    "x5_train = ss.fit_transform(x5_train)\n",
    "x5_test = ss.fit_transform(x5_test)"
   ]
  },
  {
   "cell_type": "code",
   "execution_count": 296,
   "id": "16dc40b9",
   "metadata": {},
   "outputs": [
    {
     "name": "stdout",
     "output_type": "stream",
     "text": [
      "[[-1.13311543  0.93781255  1.42744524 ...  1.34144166 -0.3002719\n",
      "  -1.05654479]\n",
      " [-0.8391623  -1.29587071 -0.42391913 ... -2.08332991  0.45699051\n",
      "  -0.55622332]\n",
      " [-0.54520916 -0.01478766 -0.25561327 ...  0.58197349 -0.39305899\n",
      "  -0.55622332]\n",
      " ...\n",
      " [ 0.0426971  -0.93453959 -0.6763779  ... -1.15190668 -0.96774035\n",
      "  -1.05654479]\n",
      " [ 2.10036903 -1.23017414  0.08099843 ... -0.37810892 -0.51278428\n",
      "   0.11087198]\n",
      " [ 0.33665024  0.4450883   0.75422183 ... -0.04029409  0.50488062\n",
      "   2.94602702]]\n"
     ]
    }
   ],
   "source": [
    "# view values\n",
    "print(x5_train)"
   ]
  },
  {
   "cell_type": "code",
   "execution_count": 297,
   "id": "2d05832c",
   "metadata": {},
   "outputs": [
    {
     "name": "stdout",
     "output_type": "stream",
     "text": [
      "[[-0.85904815  2.61194767  0.40748633 ...  1.68977455  2.84152033\n",
      "  -0.92178738]\n",
      " [-0.55469213 -0.42643211  0.24657434 ...  0.27353564 -0.21344264\n",
      "  -0.83179039]\n",
      " [ 0.0540199  -1.45023399 -0.71889759 ...  0.33444914 -0.25355832\n",
      "  -0.6517964 ]\n",
      " ...\n",
      " [-0.85904815 -0.82274251 -0.87980957 ... -1.20361676 -0.6578009\n",
      "  -0.92178738]\n",
      " [-0.85904815 -0.45945797  0.40748633 ...  0.86744228 -0.85220763\n",
      "  -0.56179941]\n",
      " [ 1.88015599  0.0689559   0.56839832 ... -0.64016688  0.11982604\n",
      "   1.14814346]]\n"
     ]
    }
   ],
   "source": [
    "print(x5_test)"
   ]
  },
  {
   "cell_type": "code",
   "execution_count": 298,
   "id": "93155daf",
   "metadata": {},
   "outputs": [
    {
     "data": {
      "text/plain": [
       "KNeighborsClassifier()"
      ]
     },
     "execution_count": 298,
     "metadata": {},
     "output_type": "execute_result"
    }
   ],
   "source": [
    "# Train model\n",
    "from sklearn.neighbors import KNeighborsClassifier\n",
    "knn_5 = KNeighborsClassifier(n_neighbors= 5, metric= 'minkowski', p= 2)\n",
    "knn_5.fit(x5_train, y5_train)"
   ]
  },
  {
   "cell_type": "code",
   "execution_count": 299,
   "id": "34c4f2e0",
   "metadata": {},
   "outputs": [
    {
     "data": {
      "text/plain": [
       "array([1, 1, 0, 0, 0, 0, 1, 1, 0, 0, 1, 1, 0, 0, 0, 0, 1, 0, 0, 0, 1, 0,\n",
       "       0, 0, 0, 0, 0, 1, 0, 0, 1, 0, 0, 1, 0, 1, 1, 0, 0, 1, 0, 0, 0, 1,\n",
       "       1, 0, 0, 0, 1, 0, 1, 0, 1, 1, 0, 0, 0, 1, 0, 0, 1, 0, 0, 0, 1, 1,\n",
       "       1, 0, 0, 0, 0, 0, 0, 1, 1, 0, 0, 1, 0, 0, 0, 1, 0, 0, 0, 0, 0, 1,\n",
       "       1, 0, 0, 0, 0, 0, 1, 0, 0, 1, 1, 1, 0, 0, 0, 0, 0, 1, 0, 0, 0, 1,\n",
       "       0, 0, 1, 1, 0, 1, 0, 0, 0, 1, 0, 1, 0, 0, 0, 0, 0, 0, 0, 0, 0, 0,\n",
       "       0, 0, 0, 1, 0, 1, 1, 0, 0, 1, 0, 0, 1, 0, 0, 0, 1, 0, 0, 1, 0, 0,\n",
       "       1, 0, 0, 0, 1, 1, 0, 0, 0, 0, 1, 0, 1, 0, 0, 1, 0, 0, 0, 0, 0, 0,\n",
       "       0, 0, 0, 0, 0, 1, 0, 1, 1, 0, 1, 0, 0, 0, 0, 0, 0, 0, 0, 1, 1, 1,\n",
       "       0, 0, 0, 0, 0, 1, 0, 0, 0, 0, 1, 0, 0, 0, 0, 0, 0, 0, 1, 0, 1, 0,\n",
       "       0, 0, 1, 0, 1, 0, 0, 0, 0, 0, 1], dtype=int64)"
      ]
     },
     "execution_count": 299,
     "metadata": {},
     "output_type": "execute_result"
    }
   ],
   "source": [
    "#predict model\n",
    "y_pred_5 = knn_5.predict(x5_test)\n",
    "y_pred_5"
   ]
  },
  {
   "cell_type": "code",
   "execution_count": 300,
   "id": "fffb5dac",
   "metadata": {},
   "outputs": [
    {
     "name": "stdout",
     "output_type": "stream",
     "text": [
      "[[133  24]\n",
      " [ 29  45]]\n"
     ]
    }
   ],
   "source": [
    "# Determine the confusion matrix\n",
    "from sklearn.metrics import confusion_matrix\n",
    "cm5_knn = confusion_matrix(y5_test, y_pred_5)\n",
    "print (cm5_knn)"
   ]
  },
  {
   "cell_type": "code",
   "execution_count": 301,
   "id": "af921637",
   "metadata": {},
   "outputs": [
    {
     "name": "stderr",
     "output_type": "stream",
     "text": [
      "Function plot_confusion_matrix is deprecated; Function `plot_confusion_matrix` is deprecated in 1.0 and will be removed in 1.2. Use one of the class methods: ConfusionMatrixDisplay.from_predictions or ConfusionMatrixDisplay.from_estimator.\n"
     ]
    },
    {
     "data": {
      "image/png": "[encoded data removed]",
      "text/plain": [
       "<Figure size 432x288 with 2 Axes>"
      ]
     },
     "metadata": {
      "needs_background": "light"
     },
     "output_type": "display_data"
    }
   ],
   "source": [
    "# plot features of the confusion matrix\n",
    "from sklearn.metrics import plot_confusion_matrix\n",
    "plot_confusion_matrix(knn_5, x5_test, y5_test)\n",
    "\n",
    "plt.show()"
   ]
  },
  {
   "cell_type": "code",
   "execution_count": 302,
   "id": "dfb1d84c",
   "metadata": {},
   "outputs": [
    {
     "data": {
      "text/plain": [
       "0.7705627705627706"
      ]
     },
     "execution_count": 302,
     "metadata": {},
     "output_type": "execute_result"
    }
   ],
   "source": [
    "#get accuracy score\n",
    "from sklearn.metrics import accuracy_score\n",
    "accu5_knn = accuracy_score(y_test, y_pred_5)\n",
    "accu5_knn"
   ]
  },
  {
   "cell_type": "code",
   "execution_count": 303,
   "id": "36cb570b",
   "metadata": {},
   "outputs": [
    {
     "data": {
      "image/png": "[encoded data removed]",
      "text/plain": [
       "<Figure size 576x432 with 1 Axes>"
      ]
     },
     "metadata": {
      "needs_background": "light"
     },
     "output_type": "display_data"
    }
   ],
   "source": [
    "\n",
    "accuracy_5 = ['accu_knn', 'accu5_knn']  # create variable of the present knn accuracy and for the nect 5 years\n",
    "accu_values_5 = [accu_knn, accu5_knn]\n",
    "\n",
    "accu_metric_5 = np.arange(len(accuracy_5))\n",
    "plt.figure (figsize=(8,6)) #plot figure size\n",
    "plt.xticks(accu_metric_5, accuracy_5)\n",
    "\n",
    "barlist = plt.bar(accu_metric_5,accu_values_5, width=0.5) # plot figure\n",
    "\n",
    "barlist[0].set_color('g')\n",
    " \n",
    "\n",
    "#display plot\n",
    "plt.show()"
   ]
  },
  {
   "cell_type": "code",
   "execution_count": 304,
   "id": "ba736224",
   "metadata": {},
   "outputs": [
    {
     "data": {
      "text/plain": [
       "0.6081081081081081"
      ]
     },
     "execution_count": 304,
     "metadata": {},
     "output_type": "execute_result"
    }
   ],
   "source": [
    "#get recall score\n",
    "from sklearn.metrics import recall_score\n",
    "recall_knn_5 = recall_score(y5_test, y_pred_5)\n",
    "recall_knn_5"
   ]
  },
  {
   "cell_type": "code",
   "execution_count": 305,
   "id": "fa94d013",
   "metadata": {},
   "outputs": [
    {
     "data": {
      "image/png": "[encoded data removed]",
      "text/plain": [
       "<Figure size 576x432 with 1 Axes>"
      ]
     },
     "metadata": {
      "needs_background": "light"
     },
     "output_type": "display_data"
    }
   ],
   "source": [
    "recall_scores_5 = ['recall_knn', 'recall_knn_5']  # create variable of the present knn recall and for the nect 5 years\n",
    "recall_values_5 = [recall_knn, recall_knn_5]\n",
    "\n",
    "recall_metric_5 = np.arange(len(recall_scores_5))\n",
    "plt.figure (figsize=(8,6))   #plot figure size\n",
    "plt.xticks(recall_metric_5, recall_scores_5)\n",
    "barlist = plt.bar(recall_metric_5,recall_values_5, width=0.5)  #plot figure\n",
    "\n",
    "barlist[0].set_color('g')\n",
    " \n",
    "\n",
    "#display plot\n",
    "plt.show()"
   ]
  },
  {
   "cell_type": "code",
   "execution_count": 306,
   "id": "e8c9cb59",
   "metadata": {},
   "outputs": [
    {
     "data": {
      "text/plain": [
       "0.6521739130434783"
      ]
     },
     "execution_count": 306,
     "metadata": {},
     "output_type": "execute_result"
    }
   ],
   "source": [
    "# get precision score\n",
    "from sklearn.metrics import precision_score\n",
    "precision_knn_5 = precision_score(y5_test, y_pred_5)\n",
    "precision_knn_5"
   ]
  },
  {
   "cell_type": "code",
   "execution_count": 307,
   "id": "3265bc23",
   "metadata": {},
   "outputs": [
    {
     "data": {
      "image/png": "[encoded data removed]",
      "text/plain": [
       "<Figure size 576x432 with 1 Axes>"
      ]
     },
     "metadata": {
      "needs_background": "light"
     },
     "output_type": "display_data"
    }
   ],
   "source": [
    "precision_scores_5 = ['precision_knn', 'precision_knn_5']  # create variable of the present knn precision and for the nect 5 years\n",
    "precision_values_5 = [precision_knn, precision_knn_5]\n",
    "\n",
    "precision_metric_5 = np.arange(len(precision_scores_5))\n",
    "plt.figure (figsize=(8,6))           # plot figure size\n",
    "plt.xticks(precision_metric_5, precision_scores_5)\n",
    "barlist = plt.bar(precision_metric_5,precision_values_5, width=0.5)  # plot figure\n",
    "\n",
    "barlist[0].set_color('g')\n",
    " \n",
    "\n",
    "#display plot\n",
    "plt.show()"
   ]
  },
  {
   "cell_type": "code",
   "execution_count": 308,
   "id": "d576c733",
   "metadata": {},
   "outputs": [
    {
     "data": {
      "text/plain": [
       "0.6293706293706294"
      ]
     },
     "execution_count": 308,
     "metadata": {},
     "output_type": "execute_result"
    }
   ],
   "source": [
    "#get f1 score\n",
    "from sklearn.metrics import f1_score\n",
    "f1_knn_5 = f1_score(y5_test, y_pred_5)\n",
    "f1_knn_5"
   ]
  },
  {
   "cell_type": "code",
   "execution_count": 309,
   "id": "e8917821",
   "metadata": {},
   "outputs": [
    {
     "data": {
      "image/png": "[encoded data removed]",
      "text/plain": [
       "<Figure size 576x432 with 1 Axes>"
      ]
     },
     "metadata": {
      "needs_background": "light"
     },
     "output_type": "display_data"
    }
   ],
   "source": [
    "f1_scores_5 = ['f1_knn', 'f1_knn_5']  # create variable of the present knn f1 and for the nect 5 years\n",
    "f1_values_5 = [f1_knn, f1_knn_5]\n",
    "\n",
    "f1_metric_5 = np.arange(len(f1_scores_5))\n",
    "plt.figure (figsize=(8,6))      # plot figure size\n",
    "plt.xticks(f1_metric_5, f1_scores_5)\n",
    "barlist = plt.bar(f1_metric_5,f1_values_5, width=0.5) #plot figure\n",
    "\n",
    "barlist[0].set_color('g')\n",
    " \n",
    "\n",
    "#display plot\n",
    "plt.show()"
   ]
  },
  {
   "cell_type": "code",
   "execution_count": 310,
   "id": "e1ebb4d2",
   "metadata": {},
   "outputs": [
    {
     "data": {
      "text/plain": [
       "0.7276209330349458"
      ]
     },
     "execution_count": 310,
     "metadata": {},
     "output_type": "execute_result"
    }
   ],
   "source": [
    "#  get auc score\n",
    "from sklearn.metrics import roc_auc_score\n",
    "auc_knn_5 = roc_auc_score(y5_test, y_pred_5)\n",
    "auc_knn_5"
   ]
  },
  {
   "cell_type": "code",
   "execution_count": 311,
   "id": "1101bc5b",
   "metadata": {},
   "outputs": [
    {
     "data": {
      "image/png": "[encoded data removed]",
      "text/plain": [
       "<Figure size 576x432 with 1 Axes>"
      ]
     },
     "metadata": {
      "needs_background": "light"
     },
     "output_type": "display_data"
    }
   ],
   "source": [
    "auc_scores_5 = ['auc_knn', 'auc_knn_5']  # create variable of the present knn auc and for the nect 5 years\n",
    "auc_values_5 = [auc_knn, auc_knn_5]\n",
    "\n",
    "auc_metric_5 = np.arange(len(auc_scores_5))\n",
    "plt.figure (figsize=(8,6))  # plot figure size\n",
    "plt.xticks(auc_metric_5, auc_scores_5)\n",
    "barlist = plt.bar(auc_metric_5,auc_values_5, width=0.5) #plot figure\n",
    "\n",
    "barlist[0].set_color('g')\n",
    " \n",
    "\n",
    "#display plot\n",
    "plt.show()"
   ]
  },
  {
   "cell_type": "code",
   "execution_count": null,
   "id": "55c55f04",
   "metadata": {},
   "outputs": [],
   "source": []
  }
 ],
 "metadata": {
  "kernelspec": {
   "display_name": "Python 3 (ipykernel)",
   "language": "python",
   "name": "python3"
  },
  "language_info": {
   "codemirror_mode": {
    "name": "ipython",
    "version": 3
   },
   "file_extension": ".py",
   "mimetype": "text/x-python",
   "name": "python",
   "nbconvert_exporter": "python",
   "pygments_lexer": "ipython3",
   "version": "3.9.12"
  }
 },
 "nbformat": 4,
 "nbformat_minor": 5
}
